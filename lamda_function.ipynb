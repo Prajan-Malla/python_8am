{
 "cells": [
  {
   "cell_type": "code",
   "execution_count": 1,
   "id": "bddfaa3d",
   "metadata": {},
   "outputs": [],
   "source": [
    "# lamda <arguments>:<operation>\n"
   ]
  },
  {
   "cell_type": "code",
   "execution_count": 5,
   "id": "ded5e1d8",
   "metadata": {},
   "outputs": [
    {
     "name": "stdout",
     "output_type": "stream",
     "text": [
      "4\n"
     ]
    }
   ],
   "source": [
    "x = lambda a:a**2 \n",
    "print(x(2))"
   ]
  },
  {
   "cell_type": "code",
   "execution_count": 8,
   "id": "0cebb710",
   "metadata": {},
   "outputs": [
    {
     "data": {
      "text/plain": [
       "200"
      ]
     },
     "execution_count": 8,
     "metadata": {},
     "output_type": "execute_result"
    }
   ],
   "source": [
    "x = lambda l,b: l*b\n",
    "x(10,20)"
   ]
  },
  {
   "cell_type": "code",
   "execution_count": 11,
   "id": "d7b52d7b",
   "metadata": {},
   "outputs": [
    {
     "data": {
      "text/plain": [
       "[4, 6, 8, 10]"
      ]
     },
     "execution_count": 11,
     "metadata": {},
     "output_type": "execute_result"
    }
   ],
   "source": [
    "# filter \n",
    "a = [1,23,4,5,6,7,8,9,10]\n",
    "b = list(filter(lambda x:x%2==0,a))\n",
    "b"
   ]
  },
  {
   "cell_type": "code",
   "execution_count": 12,
   "id": "043892f3",
   "metadata": {},
   "outputs": [
    {
     "data": {
      "text/plain": [
       "['APPLE']"
      ]
     },
     "execution_count": 12,
     "metadata": {},
     "output_type": "execute_result"
    }
   ],
   "source": [
    "a = [\"APPLE\",\"Ball\",\"cat\",\"Dog\",\"Fish\",\"Egg\"]\n",
    "b = list(filter(lambda x:x.isupper(),a))\n",
    "b "
   ]
  },
  {
   "cell_type": "code",
   "execution_count": 13,
   "id": "42a62a36",
   "metadata": {},
   "outputs": [
    {
     "data": {
      "text/plain": [
       "['APPLE', 'Ball', 'Dog', 'Fish', 'Egg']"
      ]
     },
     "execution_count": 13,
     "metadata": {},
     "output_type": "execute_result"
    }
   ],
   "source": [
    "a = [\"APPLE\",\"Ball\",\"cat\",\"Dog\",\"Fish\",\"Egg\"]\n",
    "b = list(filter(lambda x:x[0].isupper(),a))\n",
    "b "
   ]
  },
  {
   "cell_type": "code",
   "execution_count": 15,
   "id": "d073f20c",
   "metadata": {},
   "outputs": [
    {
     "name": "stdout",
     "output_type": "stream",
     "text": [
      "[1, 2, 3, 4, 5, 6, 7, 8, 9, 1, 2, 3, 4, 5, 6, 7, 8, 9]\n"
     ]
    }
   ],
   "source": [
    "#map function\n",
    "a = [1,2,3,4,5,6,7,8,9]\n",
    "print(a*2)"
   ]
  },
  {
   "cell_type": "code",
   "execution_count": 16,
   "id": "e86fb617",
   "metadata": {},
   "outputs": [
    {
     "data": {
      "text/plain": [
       "['apple', 'ball', 'cat', 'dog', 'fish', 'egg']"
      ]
     },
     "execution_count": 16,
     "metadata": {},
     "output_type": "execute_result"
    }
   ],
   "source": [
    "a = [\"APPLE\",\"Ball\",\"cat\",\"Dog\",\"Fish\",\"Egg\"]\n",
    "b = list(map(lambda x:x.lower(),a))\n",
    "b "
   ]
  },
  {
   "cell_type": "code",
   "execution_count": 17,
   "id": "98e95553",
   "metadata": {},
   "outputs": [
    {
     "data": {
      "text/plain": [
       "[1, 4, 9, 16, 25, 36, 49, 64, 81]"
      ]
     },
     "execution_count": 17,
     "metadata": {},
     "output_type": "execute_result"
    }
   ],
   "source": [
    "a = [1,2,3,4,5,6,7,8,9]\n",
    "b = list(map(lambda x:x**2,a))\n",
    "b"
   ]
  },
  {
   "cell_type": "code",
   "execution_count": 18,
   "id": "23beba20",
   "metadata": {},
   "outputs": [],
   "source": [
    "# comprihenson list and dict"
   ]
  },
  {
   "cell_type": "code",
   "execution_count": 2,
   "id": "963d8395",
   "metadata": {},
   "outputs": [
    {
     "data": {
      "text/plain": [
       "[0, 1, 2, 3, 4]"
      ]
     },
     "execution_count": 2,
     "metadata": {},
     "output_type": "execute_result"
    }
   ],
   "source": [
    "a = [i for i in range(5)]\n",
    "a"
   ]
  },
  {
   "cell_type": "code",
   "execution_count": 4,
   "id": "38dc484f",
   "metadata": {},
   "outputs": [
    {
     "name": "stdout",
     "output_type": "stream",
     "text": [
      "Enter value = 2\n",
      "Enter value = 4\n",
      "Enter value = 5\n",
      "Enter value = 7\n",
      "Enter value = 8\n"
     ]
    },
    {
     "data": {
      "text/plain": [
       "[2, 4, 5, 7, 8]"
      ]
     },
     "execution_count": 4,
     "metadata": {},
     "output_type": "execute_result"
    }
   ],
   "source": [
    "a = [int(input(\"Enter value = \")) for i in range(5)]\n",
    "a"
   ]
  },
  {
   "cell_type": "code",
   "execution_count": 5,
   "id": "a935e4c8",
   "metadata": {},
   "outputs": [
    {
     "name": "stdout",
     "output_type": "stream",
     "text": [
      "Enter value = 34\n",
      "Enter value = 56\n",
      "Enter value = 78\n",
      "Enter value = 5\n",
      "Enter value = 4\n"
     ]
    },
    {
     "data": {
      "text/plain": [
       "177"
      ]
     },
     "execution_count": 5,
     "metadata": {},
     "output_type": "execute_result"
    }
   ],
   "source": [
    "a = sum([int(input(\"Enter value = \")) for i in range(5)])\n",
    "a"
   ]
  },
  {
   "cell_type": "code",
   "execution_count": 6,
   "id": "48accc66",
   "metadata": {},
   "outputs": [
    {
     "data": {
      "text/plain": [
       "[2, 4, 6, 8]"
      ]
     },
     "execution_count": 6,
     "metadata": {},
     "output_type": "execute_result"
    }
   ],
   "source": [
    "a = [1,2,3,4,5,6,7,8,9]\n",
    "b = [i for i in a if i%2==0]\n",
    "b"
   ]
  },
  {
   "cell_type": "code",
   "execution_count": 9,
   "id": "f64d36f5",
   "metadata": {},
   "outputs": [
    {
     "name": "stdout",
     "output_type": "stream",
     "text": [
      "Enter nameRam\n",
      "Enter pphone9876543210\n",
      "Enter nameShambhav\n",
      "Enter pphone0987654321\n"
     ]
    },
    {
     "data": {
      "text/plain": [
       "{'Ram': '9876543210', 'Shambhav': '0987654321'}"
      ]
     },
     "execution_count": 9,
     "metadata": {},
     "output_type": "execute_result"
    }
   ],
   "source": [
    "# dict\n",
    "d = {input(\"Enter name\"):input(\"Enter pphone\") for i in range(2)}\n",
    "d"
   ]
  },
  {
   "cell_type": "code",
   "execution_count": 10,
   "id": "de9b580a",
   "metadata": {},
   "outputs": [
    {
     "data": {
      "text/plain": [
       "{1: 1, 2: 4, 3: 9, 4: 16, 5: 25, 6: 36, 7: 49, 8: 64, 9: 81}"
      ]
     },
     "execution_count": 10,
     "metadata": {},
     "output_type": "execute_result"
    }
   ],
   "source": [
    "a = [1,2,3,4,5,6,7,8,9]\n",
    "b = {i:i**2 for i in a}\n",
    "b"
   ]
  },
  {
   "cell_type": "code",
   "execution_count": 11,
   "id": "3299a2b4",
   "metadata": {},
   "outputs": [
    {
     "data": {
      "text/plain": [
       "['.ipynb_checkpoints',\n",
       " 'bill.csv',\n",
       " 'bill.txt',\n",
       " 'billing.csv',\n",
       " 'bill_01.csv',\n",
       " 'data.txt',\n",
       " 'desktop.ini',\n",
       " 'Dictionary.ipynb',\n",
       " 'file_handling.ipynb',\n",
       " 'function.ipynb',\n",
       " 'inheritance.ipynb',\n",
       " 'lamda_function.ipynb',\n",
       " 'list.ipynb',\n",
       " 'loop.ipynb',\n",
       " 'practice.ipynb',\n",
       " 'Rizzzzz.ipynb',\n",
       " 'set.ipynb',\n",
       " 'sql.ipynb',\n",
       " 'string.ipynb',\n",
       " 'tuple.ipynb',\n",
       " 'Untitled.ipynb']"
      ]
     },
     "execution_count": 11,
     "metadata": {},
     "output_type": "execute_result"
    }
   ],
   "source": [
    "# os package Listdir() mkdir() rmdir() chdir() rename() remove()\n",
    "import os\n",
    "os.listdir()"
   ]
  },
  {
   "cell_type": "code",
   "execution_count": 15,
   "id": "7080519b",
   "metadata": {},
   "outputs": [],
   "source": [
    "try:\n",
    "    os.mkdir('myfolder')\n",
    "except:\n",
    "    print('The folder is already created')\n",
    "    "
   ]
  },
  {
   "cell_type": "code",
   "execution_count": 13,
   "id": "98fc7d39",
   "metadata": {},
   "outputs": [],
   "source": [
    "os.rmdir('myfolder')"
   ]
  },
  {
   "cell_type": "code",
   "execution_count": 16,
   "id": "1d878aac",
   "metadata": {},
   "outputs": [],
   "source": [
    "os.chdir('myfolder')"
   ]
  },
  {
   "cell_type": "code",
   "execution_count": 17,
   "id": "055eef73",
   "metadata": {},
   "outputs": [
    {
     "data": {
      "text/plain": [
       "'C:\\\\Users\\\\ASUS\\\\Untitled Folder\\\\myfolder'"
      ]
     },
     "execution_count": 17,
     "metadata": {},
     "output_type": "execute_result"
    }
   ],
   "source": [
    "pwd"
   ]
  },
  {
   "cell_type": "code",
   "execution_count": 18,
   "id": "650ec2ff",
   "metadata": {},
   "outputs": [
    {
     "name": "stdout",
     "output_type": "stream",
     "text": [
      "C:\\Users\\ASUS\\Untitled Folder\n"
     ]
    }
   ],
   "source": [
    "cd .."
   ]
  },
  {
   "cell_type": "code",
   "execution_count": 19,
   "id": "6a74e645",
   "metadata": {},
   "outputs": [],
   "source": [
    "os.rename('myfolder','Myfolder')"
   ]
  },
  {
   "cell_type": "code",
   "execution_count": null,
   "id": "01cc7e75",
   "metadata": {},
   "outputs": [],
   "source": []
  }
 ],
 "metadata": {
  "kernelspec": {
   "display_name": "Python 3 (ipykernel)",
   "language": "python",
   "name": "python3"
  },
  "language_info": {
   "codemirror_mode": {
    "name": "ipython",
    "version": 3
   },
   "file_extension": ".py",
   "mimetype": "text/x-python",
   "name": "python",
   "nbconvert_exporter": "python",
   "pygments_lexer": "ipython3",
   "version": "3.10.9"
  }
 },
 "nbformat": 4,
 "nbformat_minor": 5
}
