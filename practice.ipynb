{
 "cells": [
  {
   "cell_type": "code",
   "execution_count": 2,
   "id": "9cc061c4",
   "metadata": {},
   "outputs": [
    {
     "ename": "SyntaxError",
     "evalue": "invalid syntax (4224307073.py, line 1)",
     "output_type": "error",
     "traceback": [
      "\u001b[1;36m  Cell \u001b[1;32mIn[2], line 1\u001b[1;36m\u001b[0m\n\u001b[1;33m    WAP to create a billing system using function.\u001b[0m\n\u001b[1;37m        ^\u001b[0m\n\u001b[1;31mSyntaxError\u001b[0m\u001b[1;31m:\u001b[0m invalid syntax\n"
     ]
    }
   ],
   "source": [
    "WAP to create a billing system using function.\n",
    "WAP to result management system using function.\n",
    "WAP to create basic calculator using return type function."
   ]
  },
  {
   "cell_type": "code",
   "execution_count": 8,
   "id": "9cb7d32c",
   "metadata": {},
   "outputs": [
    {
     "name": "stdout",
     "output_type": "stream",
     "text": [
      "Enter n = 3\n",
      "Enter name = momo\n",
      "Enter price = 120\n",
      "Enter quantity = 2\n",
      "Enter name = dpg\n",
      "Enter price = 45\n",
      "Enter quantity = 56\n",
      "Enter name = dfgh\n",
      "Enter price = 45\n",
      "Enter quantity = 64\n",
      "momo 120 2 240\n",
      "dpg 45 56 2520\n",
      "dfgh 45 64 2880\n",
      "\n"
     ]
    }
   ],
   "source": [
    "#WAP to create a billing system using function.\n",
    "\n",
    "n = int (input(\"Enter n = \"))\n",
    "\n",
    "def cal():\n",
    "    bill = \"\"\n",
    "    for i in range(n):\n",
    "      name = input(\"Enter name = \")\n",
    "      price = int(input(\"Enter price = \"))\n",
    "      quantity = int (input(\"Enter quantity = \"))\n",
    "      total = price*quantity\n",
    "      bill = bill+ f\"{name} {price} {quantity} {total}\\n\"\n",
    "    print(bill)\n",
    "cal()   \n"
   ]
  },
  {
   "cell_type": "code",
   "execution_count": 9,
   "id": "927bfca7",
   "metadata": {},
   "outputs": [
    {
     "name": "stdout",
     "output_type": "stream",
     "text": [
      "Enter a = 3\n",
      "Enter b = 5\n",
      "Enter + - * / +\n",
      "8\n"
     ]
    }
   ],
   "source": [
    "a = int(input(\"Enter a = \"))\n",
    "b = int(input(\"Enter b = \"))\n",
    "o = input(\"Enter + - * / \")\n",
    "if o == '+':\n",
    "    print(a+b)\n",
    "elif o == '-':\n",
    "    print(a-b)\n",
    "elif o == (a*b):\n",
    "    print(a*b)\n",
    "elif 0 == (a/b):\n",
    "    print(a/b)\n",
    "else:\n",
    "    print(\"Invalid operators\")\n"
   ]
  },
  {
   "cell_type": "code",
   "execution_count": 13,
   "id": "a2da1977",
   "metadata": {},
   "outputs": [
    {
     "ename": "SyntaxError",
     "evalue": "expected ':' (3103971302.py, line 10)",
     "output_type": "error",
     "traceback": [
      "\u001b[1;36m  Cell \u001b[1;32mIn[13], line 10\u001b[1;36m\u001b[0m\n\u001b[1;33m    def cal()\u001b[0m\n\u001b[1;37m             ^\u001b[0m\n\u001b[1;31mSyntaxError\u001b[0m\u001b[1;31m:\u001b[0m expected ':'\n"
     ]
    }
   ],
   "source": [
    "def add(a,b):\n",
    "    return a+b\n",
    "def sub(a,b):\n",
    "    return a-b\n",
    "def mul(a,b):\n",
    "    return a*b\n",
    "def  div(a,b):\n",
    "    return a/b\n",
    "\n",
    "def cal()\n",
    "    a = int(input(\"Enter a = \"))\n",
    "    b = int(input(\"Enter b = \"))\n",
    "    o = input(\"Enter + - * / \")\n",
    "    if o == '+':\n",
    "        print(add(a,b))\n",
    "    elif o == '-':\n",
    "        print(sub(a,b))\n",
    "    elif o == (a*b):\n",
    "        print(mul(a,b))\n",
    "    elif 0 == (a/b):\n",
    "        print(div(a,b))\n",
    "    else:\n",
    "        print(\"Invalid operators\")\n",
    "cal()"
   ]
  },
  {
   "cell_type": "code",
   "execution_count": null,
   "id": "bc8677a7",
   "metadata": {},
   "outputs": [],
   "source": []
  }
 ],
 "metadata": {
  "kernelspec": {
   "display_name": "Python 3 (ipykernel)",
   "language": "python",
   "name": "python3"
  },
  "language_info": {
   "codemirror_mode": {
    "name": "ipython",
    "version": 3
   },
   "file_extension": ".py",
   "mimetype": "text/x-python",
   "name": "python",
   "nbconvert_exporter": "python",
   "pygments_lexer": "ipython3",
   "version": "3.10.9"
  }
 },
 "nbformat": 4,
 "nbformat_minor": 5
}
