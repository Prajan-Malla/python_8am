{
 "cells": [
  {
   "cell_type": "code",
   "execution_count": 1,
   "id": "407b6517",
   "metadata": {},
   "outputs": [],
   "source": [
    "# class A:\n",
    "#     pass\n",
    "\n",
    "# class B(A):\n",
    "#     pass\n",
    "\n",
    "# obj = B()"
   ]
  },
  {
   "cell_type": "code",
   "execution_count": 2,
   "id": "42da28b5",
   "metadata": {},
   "outputs": [
    {
     "name": "stdout",
     "output_type": "stream",
     "text": [
      "Enter name = prajan\n",
      "enter Age = 19\n",
      "Enter addd = ktm\n",
      "Hello World I am prajan. I am from ktm. I am 19\n"
     ]
    }
   ],
   "source": [
    "class Data:\n",
    "    def __init__(self):\n",
    "        self.name = input(\"Enter name = \")\n",
    "        self.age = int(input(\"enter Age = \"))\n",
    "        self.add = input(\"Enter addd = \")\n",
    "        \n",
    "class Info(Data):\n",
    "    def info(self):\n",
    "        print(f\"Hello World I am {self.name}. I am from {self.add}. I am {self.age}\")\n",
    "        \n",
    "obj = Info()\n",
    "obj.info()"
   ]
  },
  {
   "cell_type": "code",
   "execution_count": 3,
   "id": "a827a3b6",
   "metadata": {},
   "outputs": [
    {
     "name": "stdout",
     "output_type": "stream",
     "text": [
      "Enter name = prajan \n",
      "enter Age = 19\n",
      "Enter addd = ktm\n",
      "Hello World I am prajan . I am from ktm. I am 19\n"
     ]
    }
   ],
   "source": [
    "class Data:\n",
    "    def __init__(self,name,age,add):\n",
    "        self.name = name\n",
    "        self.age = age\n",
    "        self.add = add\n",
    "        \n",
    "class Info(Data):\n",
    "    def info(self):\n",
    "        print(f\"Hello World I am {self.name}. I am from {self.add}. I am {self.age}\")\n",
    "\n",
    "name = input(\"Enter name = \")\n",
    "age = int(input(\"enter Age = \"))\n",
    "add = input(\"Enter addd = \")        \n",
    "\n",
    "obj = Info(name,age,add)\n",
    "obj.info()"
   ]
  },
  {
   "cell_type": "code",
   "execution_count": 7,
   "id": "8651ea30",
   "metadata": {},
   "outputs": [
    {
     "name": "stdout",
     "output_type": "stream",
     "text": [
      "Enter name = prajan\n",
      "enter Age = 19\n",
      "Enter addd = ktm\n",
      "Hello World I am prajan. I am from ktm. I am 19\n"
     ]
    }
   ],
   "source": [
    "class Data:\n",
    "    def __init__(self,add):\n",
    "        self.add = add\n",
    "    \n",
    "    def data(self):\n",
    "        print(self.add)\n",
    "        \n",
    "class Info(Data):\n",
    "    def __init__(self,name,age,add):\n",
    "        self.name = name\n",
    "        self.age = age\n",
    "        Data. __init__(self,add)               #initialization of add or inherited from class data\n",
    "    \n",
    "    def info(self):\n",
    "        print(f\"Hello World I am {self.name}. I am from {self.add}. I am {self.age}\")\n",
    "\n",
    "name = input(\"Enter name = \")\n",
    "age = int(input(\"enter Age = \"))\n",
    "add = input(\"Enter addd = \")        \n",
    "\n",
    "obj = Info(name,age,add)\n",
    "obj.info()"
   ]
  },
  {
   "cell_type": "code",
   "execution_count": 8,
   "id": "5139578a",
   "metadata": {},
   "outputs": [],
   "source": [
    "# #multilevel inheritance\n",
    "\n",
    "# class A:\n",
    "#     pass\n",
    "# class B(A):\n",
    "#     pass\n",
    "# class C(B):\n",
    "#     pass\n",
    "\n",
    "#obj = C()"
   ]
  },
  {
   "cell_type": "code",
   "execution_count": 9,
   "id": "902cff20",
   "metadata": {},
   "outputs": [
    {
     "name": "stdout",
     "output_type": "stream",
     "text": [
      "Enter name = prajan\n",
      "enter Age = 19\n",
      "Enter addd = ktm\n",
      "Hello World I am prajan. I am from ktm. I am 19\n"
     ]
    }
   ],
   "source": [
    "#multilevel inheritance\n",
    "\n",
    "class Age:\n",
    "    def __init__(self,age):\n",
    "        self.age = age\n",
    "    def age(self):\n",
    "        print(age)\n",
    "        \n",
    "class Data(Age):\n",
    "    def __init__(self,add):\n",
    "        self.add = add\n",
    "        Age.__init__(self,age)\n",
    "    def data(self):\n",
    "        print(self.add)\n",
    "    \n",
    "    \n",
    "    def data(self):\n",
    "        print(self.add)\n",
    "        \n",
    "class Info(Data):\n",
    "    def __init__(self,name,age,add):\n",
    "        self.name = name\n",
    "        Data. __init__(self,add)               #initialization of add or inherited from class data\n",
    "    \n",
    "    def info(self):\n",
    "        print(f\"Hello World I am {self.name}. I am from {self.add}. I am {self.age}\")\n",
    "\n",
    "name = input(\"Enter name = \")\n",
    "age = int(input(\"enter Age = \"))\n",
    "add = input(\"Enter add = \")        \n",
    "\n",
    "obj = Info(name,age,add)\n",
    "obj.info()"
   ]
  },
  {
   "cell_type": "code",
   "execution_count": 10,
   "id": "c3c83a0c",
   "metadata": {},
   "outputs": [
    {
     "name": "stdout",
     "output_type": "stream",
     "text": [
      "Enter name = prajan\n",
      "enter Age = 19\n",
      "Enter add = ktm\n",
      "Hello World I am prajan. I am from 19. I am 19\n"
     ]
    }
   ],
   "source": [
    "#multiple inheritance\n",
    "\n",
    "class Age:\n",
    "    def __init__(self,age):\n",
    "        self.age = age\n",
    "    def age(self):\n",
    "        print(age)\n",
    "        \n",
    "class Add:\n",
    "    def __init__(self,add):\n",
    "        self.add = add\n",
    "        Age.__init__(self,age)\n",
    "    def data(self):\n",
    "        print(self.add)\n",
    "    \n",
    "    \n",
    "    def data(self):\n",
    "        print(self.add)\n",
    "        \n",
    "class Info(Age,Add):\n",
    "    def __init__(self,name,age,add):\n",
    "        self.name = name\n",
    "        Data.__init__(self,age)               #initialization of add or inherited from class data\n",
    "        Data.__init__(self,age) \n",
    "    \n",
    "    def info(self):\n",
    "        print(f\"Hello World I am {self.name}. I am from {self.add}. I am {self.age}\")\n",
    "\n",
    "name = input(\"Enter name = \")\n",
    "age = int(input(\"enter Age = \"))\n",
    "add = input(\"Enter add = \")        \n",
    "\n",
    "obj = Info(name,age,add)\n",
    "obj.info()"
   ]
  },
  {
   "cell_type": "code",
   "execution_count": 12,
   "id": "6a8a25ee",
   "metadata": {},
   "outputs": [
    {
     "name": "stdout",
     "output_type": "stream",
     "text": [
      "Enter name = prajan\n",
      "enter Age = 19\n",
      "Enter addd = ktm\n",
      "Hello World I am prajan. I am 19\n",
      "Hello World I am prajan. I am 19. I am from ktm\n",
      "prajan 19\n"
     ]
    }
   ],
   "source": [
    "#public, private, and protected\n",
    "class Data:\n",
    "    def __init__(self,name,age,add):\n",
    "        self.name = name            #public member\n",
    "        self._age = age             #protected\n",
    "        self.__add = add            #private\n",
    "        \n",
    "    def data(self):\n",
    "         print(f\"Hello World I am {self.name}. I am {self._age}. I am from {self.__add}\")\n",
    "        \n",
    "class Info(Data):\n",
    "    def info(self):\n",
    "        print(f\"Hello World I am {self.name}. I am {self._age}\")\n",
    "\n",
    "name = input(\"Enter name = \")\n",
    "age = int(input(\"enter Age = \"))\n",
    "add = input(\"Enter addd = \")        \n",
    "\n",
    "obj = Info(name,age,add)\n",
    "obj.info()\n",
    "obj.data()\n",
    "\n",
    "print(obj.name, obj._age)"
   ]
  },
  {
   "cell_type": "code",
   "execution_count": 13,
   "id": "5ccb6c9f",
   "metadata": {},
   "outputs": [
    {
     "name": "stdout",
     "output_type": "stream",
     "text": [
      "Enter name = prajan\n",
      "enter Age = 19\n",
      "Enter addd = ktm\n",
      "Hello World I am prajan. I am 19. I am from ktm\n",
      "Hello World I am prajan. I am 19. I am from ktm\n",
      "prajan 19\n"
     ]
    }
   ],
   "source": [
    "#public, private, and protected\n",
    "class Data:\n",
    "    def __init__(self,name,age,add):\n",
    "        self.name = name            #public member\n",
    "        self._age = age             #protected\n",
    "        self.__add = add            #private\n",
    "        \n",
    "    def data(self):\n",
    "         print(f\"Hello World I am {self.name}. I am {self._age}. I am from {self.__add}\")\n",
    "        \n",
    "class Info(Data):\n",
    "    def info(self):\n",
    "        super().data()\n",
    "\n",
    "name = input(\"Enter name = \")\n",
    "age = int(input(\"enter Age = \"))\n",
    "add = input(\"Enter addd = \")        \n",
    "\n",
    "obj = Info(name,age,add)\n",
    "obj.info()\n",
    "obj.data()\n",
    "\n",
    "print(obj.name, obj._age)"
   ]
  },
  {
   "cell_type": "code",
   "execution_count": 15,
   "id": "44381f45",
   "metadata": {},
   "outputs": [
    {
     "name": "stdout",
     "output_type": "stream",
     "text": [
      "Enter name = prajan\n",
      "enter Age = 19\n",
      "Enter addd = ktm\n",
      "None\n",
      "prajan 19\n"
     ]
    }
   ],
   "source": [
    "#public, private, and protected\n",
    "class Data:\n",
    "    def __init__(self,name,age,add):\n",
    "        self.name = name            #public member\n",
    "        self._age = age             #protected\n",
    "        self.__add = add            #private\n",
    "        \n",
    "    def data(self):\n",
    "       return f\"Hello World I am {self.name}. I am {self._age}. I am from {self.__add}\"\n",
    "        \n",
    "class Info(Data):\n",
    "    def info(self):\n",
    "        print(super().data())\n",
    "\n",
    "name = input(\"Enter name = \")\n",
    "age = int(input(\"enter Age = \"))\n",
    "add = input(\"Enter addd = \")        \n",
    "\n",
    "obj = Info(name,age,add)\n",
    "obj.info()\n",
    "obj.data()\n",
    "\n",
    "print(obj.name, obj._age)"
   ]
  },
  {
   "cell_type": "code",
   "execution_count": null,
   "id": "8b4178b8",
   "metadata": {},
   "outputs": [],
   "source": []
  }
 ],
 "metadata": {
  "kernelspec": {
   "display_name": "Python 3 (ipykernel)",
   "language": "python",
   "name": "python3"
  },
  "language_info": {
   "codemirror_mode": {
    "name": "ipython",
    "version": 3
   },
   "file_extension": ".py",
   "mimetype": "text/x-python",
   "name": "python",
   "nbconvert_exporter": "python",
   "pygments_lexer": "ipython3",
   "version": "3.10.9"
  }
 },
 "nbformat": 4,
 "nbformat_minor": 5
}
