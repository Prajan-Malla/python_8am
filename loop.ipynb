{
 "cells": [
  {
   "cell_type": "code",
   "execution_count": 1,
   "id": "654d8104",
   "metadata": {},
   "outputs": [],
   "source": [
    "# for loop\n",
    "# while loop"
   ]
  },
  {
   "cell_type": "code",
   "execution_count": null,
   "id": "08b269b6",
   "metadata": {},
   "outputs": [],
   "source": [
    "#for loop\n",
    "#range(5)        #0,1,2,3,4                 #for(i=0; i<5; i++)\n",
    "#range(1,5)      #1,2,3,4                   #for(i=1; i<5; i++)\n",
    "#range(1,10,2)   #1,3,5,7,9                 #for(i=0; i<10; i++) #1(initiliazation) 10(limit) 2(increament)"
   ]
  },
  {
   "cell_type": "code",
   "execution_count": 5,
   "id": "b1fd44da",
   "metadata": {},
   "outputs": [
    {
     "name": "stdout",
     "output_type": "stream",
     "text": [
      "0 hello world\n",
      "1 hello world\n",
      "2 hello world\n",
      "3 hello world\n",
      "4 hello world\n"
     ]
    }
   ],
   "source": [
    "for i in range(5):\n",
    "    print(i,\"hello world\")"
   ]
  },
  {
   "cell_type": "code",
   "execution_count": 6,
   "id": "31fcdb9a",
   "metadata": {},
   "outputs": [
    {
     "name": "stdout",
     "output_type": "stream",
     "text": [
      "1 Hello world\n",
      "2 Hello world\n",
      "3 Hello world\n",
      "4 Hello world\n"
     ]
    }
   ],
   "source": [
    "for i in range(1,5):\n",
    "    print(i,\"Hello world\")"
   ]
  },
  {
   "cell_type": "code",
   "execution_count": 7,
   "id": "a4d14c26",
   "metadata": {},
   "outputs": [
    {
     "name": "stdout",
     "output_type": "stream",
     "text": [
      "1 Hello world\n",
      "3 Hello world\n",
      "5 Hello world\n",
      "7 Hello world\n",
      "9 Hello world\n"
     ]
    }
   ],
   "source": [
    "for i in range(1,10,2):\n",
    "    print(i,\"Hello world\")"
   ]
  },
  {
   "cell_type": "code",
   "execution_count": 8,
   "id": "b859e160",
   "metadata": {},
   "outputs": [
    {
     "name": "stdout",
     "output_type": "stream",
     "text": [
      "Enter n = 5\n",
      "5\n",
      "10\n",
      "15\n",
      "20\n",
      "25\n",
      "30\n",
      "35\n",
      "40\n",
      "45\n",
      "50\n"
     ]
    }
   ],
   "source": [
    "n = int(input(\"Enter n = \"))\n",
    "for i in range(1,11):\n",
    "    print(n*i)"
   ]
  },
  {
   "cell_type": "code",
   "execution_count": 11,
   "id": "572fa27f",
   "metadata": {},
   "outputs": [
    {
     "name": "stdout",
     "output_type": "stream",
     "text": [
      "Enter n = 3\n",
      "3 * 1 = 3\n",
      "3 * 2 = 6\n",
      "3 * 3 = 9\n",
      "3 * 4 = 12\n",
      "3 * 5 = 15\n",
      "3 * 6 = 18\n",
      "3 * 7 = 21\n",
      "3 * 8 = 24\n",
      "3 * 9 = 27\n",
      "3 * 10 = 30\n"
     ]
    }
   ],
   "source": [
    "n = int(input(\"Enter n = \"))\n",
    "for i in range(1,11):\n",
    "    print(n, \"*\", i, \"=\", n*i)"
   ]
  },
  {
   "cell_type": "code",
   "execution_count": 12,
   "id": "d74d8bb1",
   "metadata": {},
   "outputs": [
    {
     "name": "stdout",
     "output_type": "stream",
     "text": [
      "Enter x = 100\n",
      "sum =  100\n",
      "Enter x = 200\n",
      "sum =  300\n"
     ]
    }
   ],
   "source": [
    "s = 0\n",
    "n = 2\n",
    "for i in range(n):\n",
    "    x = int(input(\"Enter x = \"))\n",
    "    s = s+x\n",
    "    print(\"sum = \",s)"
   ]
  },
  {
   "cell_type": "code",
   "execution_count": 13,
   "id": "e70d3513",
   "metadata": {},
   "outputs": [
    {
     "name": "stdout",
     "output_type": "stream",
     "text": [
      "enter n = 3\n",
      "Enter x = 100\n",
      "sum =  100\n",
      "Enter x = 200\n",
      "sum =  300\n",
      "Enter x = 300\n",
      "sum =  600\n"
     ]
    }
   ],
   "source": [
    "s = 0\n",
    "n = int(input(\"enter n = \"))\n",
    "for i in range(n):\n",
    "    x = int(input(\"Enter x = \"))\n",
    "    s = s+x\n",
    "    print(\"sum = \",s)"
   ]
  },
  {
   "cell_type": "code",
   "execution_count": 19,
   "id": "7be1cf72",
   "metadata": {},
   "outputs": [
    {
     "name": "stdout",
     "output_type": "stream",
     "text": [
      "enter n = 2\n",
      "Enter x = Apple\n",
      "Enter x = Ball\n",
      "Apple\n",
      "Ball\n",
      "\n"
     ]
    }
   ],
   "source": [
    "s = str() \n",
    "n = int(input(\"enter n = \"))\n",
    "for i in range(n):\n",
    "    x = (input(\"Enter x = \"))\n",
    "    s = s + x + \"\\n\"\n",
    "print(s)"
   ]
  },
  {
   "cell_type": "code",
   "execution_count": 29,
   "id": "55605b08",
   "metadata": {},
   "outputs": [
    {
     "name": "stdout",
     "output_type": "stream",
     "text": [
      "enter n = 2 \n",
      "Enter name = prajan\n",
      "enter phone = 9876543210\n",
      "Enter name = ram\n",
      "enter phone = 0987654321\n",
      "prajan\t9876543210\n",
      "ram\t0987654321\n",
      "\n"
     ]
    }
   ],
   "source": [
    "s = str() \n",
    "n = int(input(\"enter n = \"))\n",
    "for i in range(n):\n",
    "    name = (input(\"Enter name = \"))\n",
    "    phone =(input(\"enter phone = \"))\n",
    "    s = s + name + \"\\t\" + phone + \"\\n\"\n",
    "print(s)"
   ]
  },
  {
   "cell_type": "code",
   "execution_count": 28,
   "id": "5a32c625",
   "metadata": {},
   "outputs": [
    {
     "name": "stdout",
     "output_type": "stream",
     "text": [
      "Enter n = 2\n",
      "1\n",
      "2\n"
     ]
    }
   ],
   "source": [
    "#WAP to calculate the factorial\n",
    "#5! = 1*2*3*4*5\n",
    "\n",
    "fac = 1\n",
    "n = int(input(\"Enter n = \"))\n",
    "for i in range(1,n+1):\n",
    "    fac = fac * i\n",
    "    print(fac)"
   ]
  },
  {
   "cell_type": "code",
   "execution_count": 26,
   "id": "c78da20f",
   "metadata": {},
   "outputs": [
    {
     "name": "stdout",
     "output_type": "stream",
     "text": [
      "5\n",
      "4\n",
      "3\n",
      "2\n",
      "1\n",
      "0\n"
     ]
    }
   ],
   "source": [
    "for i in range(5,-1,-1):\n",
    "    print(i)"
   ]
  },
  {
   "cell_type": "code",
   "execution_count": 30,
   "id": "adee5c4d",
   "metadata": {},
   "outputs": [
    {
     "name": "stdout",
     "output_type": "stream",
     "text": [
      "H\n",
      "e\n",
      "l\n",
      "l\n",
      "o\n",
      " \n",
      "w\n",
      "o\n",
      "r\n",
      "l\n",
      "d\n"
     ]
    }
   ],
   "source": [
    "# for loop in string\n",
    "a = \"Hello world\"\n",
    "for i in a:\n",
    "    print(i)"
   ]
  },
  {
   "cell_type": "code",
   "execution_count": 32,
   "id": "72401ac9",
   "metadata": {},
   "outputs": [
    {
     "name": "stdout",
     "output_type": "stream",
     "text": [
      "H.e.l.l.o. .w.o.r.l.d."
     ]
    }
   ],
   "source": [
    "# for loop in string\n",
    "a = \"Hello world\"\n",
    "for i in a:\n",
    "    print(i, end = \".\")"
   ]
  },
  {
   "cell_type": "code",
   "execution_count": 37,
   "id": "8a639650",
   "metadata": {},
   "outputs": [
    {
     "name": "stdout",
     "output_type": "stream",
     "text": [
      "Helloworld,Iampython"
     ]
    }
   ],
   "source": [
    "a = \"Hello world, I am python\"\n",
    "for i in a:\n",
    "    if i != \".\" and i != \" \":\n",
    "     print(i,end = \"\")"
   ]
  },
  {
   "cell_type": "code",
   "execution_count": 42,
   "id": "c6612846",
   "metadata": {},
   "outputs": [
    {
     "name": "stdout",
     "output_type": "stream",
     "text": [
      " ,   "
     ]
    }
   ],
   "source": [
    "a = \"Hello world, I am python\"\n",
    "for i in a:\n",
    "    if i == \",\" or i == \" \":\n",
    "      print(i,end = \"\")"
   ]
  },
  {
   "cell_type": "code",
   "execution_count": null,
   "id": "2898526b",
   "metadata": {},
   "outputs": [],
   "source": [
    "# control statement\n",
    "# break\n",
    "# continous\n",
    "# pass"
   ]
  },
  {
   "cell_type": "code",
   "execution_count": 44,
   "id": "c52c6af0",
   "metadata": {},
   "outputs": [
    {
     "name": "stdout",
     "output_type": "stream",
     "text": [
      "0\n",
      "1\n",
      "2\n",
      "3\n",
      "4\n"
     ]
    }
   ],
   "source": [
    "for i in range(10):\n",
    "    if i == 5:\n",
    "        break   #break is uesd to stop\n",
    "    print(i)"
   ]
  },
  {
   "cell_type": "code",
   "execution_count": 45,
   "id": "f99d3d59",
   "metadata": {},
   "outputs": [
    {
     "name": "stdout",
     "output_type": "stream",
     "text": [
      "0\n",
      "1\n",
      "2\n",
      "3\n",
      "4\n",
      "6\n",
      "7\n",
      "8\n",
      "9\n"
     ]
    }
   ],
   "source": [
    "for i in range(10):\n",
    "    if i == 5:\n",
    "        continue  #continue is used to skip\n",
    "    print(i)"
   ]
  },
  {
   "cell_type": "code",
   "execution_count": 46,
   "id": "944680d2",
   "metadata": {},
   "outputs": [
    {
     "name": "stdout",
     "output_type": "stream",
     "text": [
      "0\n",
      "1\n",
      "2\n",
      "3\n",
      "4\n",
      "5\n",
      "6\n",
      "7\n",
      "8\n",
      "9\n"
     ]
    }
   ],
   "source": [
    "for i in range(10):\n",
    "    if i == 5:\n",
    "        pass\n",
    "    print(i)"
   ]
  },
  {
   "cell_type": "code",
   "execution_count": 47,
   "id": "3a9a55de",
   "metadata": {},
   "outputs": [
    {
     "name": "stdout",
     "output_type": "stream",
     "text": [
      "hello world, I am python"
     ]
    }
   ],
   "source": [
    "a = \"hello world, I am python. I am best.\"\n",
    "for i in a:\n",
    "    if i == \".\":\n",
    "        break\n",
    "    print(i,end = \"\")"
   ]
  },
  {
   "cell_type": "code",
   "execution_count": 48,
   "id": "19f3aa2e",
   "metadata": {},
   "outputs": [
    {
     "name": "stdout",
     "output_type": "stream",
     "text": [
      "hello world, I am python I am best"
     ]
    }
   ],
   "source": [
    "a = \"hello world, I am python. I am best.\"\n",
    "for i in a:\n",
    "    if i == \".\":\n",
    "        continue\n",
    "    print(i,end = \"\")"
   ]
  },
  {
   "cell_type": "code",
   "execution_count": 50,
   "id": "1aac9c46",
   "metadata": {},
   "outputs": [],
   "source": [
    "#pass\n",
    "if True:\n",
    "    pass"
   ]
  },
  {
   "cell_type": "code",
   "execution_count": 51,
   "id": "fbc0b0a9",
   "metadata": {},
   "outputs": [
    {
     "name": "stdout",
     "output_type": "stream",
     "text": [
      "\n",
      "*\n",
      "**\n",
      "***\n",
      "****\n",
      "*****\n",
      "******\n",
      "*******\n",
      "********\n",
      "*********\n"
     ]
    }
   ],
   "source": [
    "for i in range(10):\n",
    "    print(i*\"*\")"
   ]
  },
  {
   "cell_type": "code",
   "execution_count": 54,
   "id": "c5f8eec6",
   "metadata": {},
   "outputs": [
    {
     "name": "stdout",
     "output_type": "stream",
     "text": [
      " \n",
      "  *\n",
      "   **\n",
      "    ***\n",
      "     ****\n",
      "      *****\n",
      "       ******\n",
      "        *******\n",
      "         ********\n",
      "          *********\n"
     ]
    }
   ],
   "source": [
    "for i in range(10):\n",
    "    print(\" \"*i,i*\"*\")"
   ]
  },
  {
   "cell_type": "code",
   "execution_count": null,
   "id": "f901afef",
   "metadata": {},
   "outputs": [],
   "source": [
    "1 #While loop\n",
    "2 #while <condition>:\n",
    "  # <coperation>"
   ]
  },
  {
   "cell_type": "code",
   "execution_count": null,
   "id": "b20cc354",
   "metadata": {},
   "outputs": [],
   "source": [
    "while True:\n",
    "    print(\"hello world\")"
   ]
  },
  {
   "cell_type": "code",
   "execution_count": 3,
   "id": "5f8416e6",
   "metadata": {},
   "outputs": [
    {
     "name": "stdout",
     "output_type": "stream",
     "text": [
      "hello world\n",
      "hello world\n",
      "hello world\n",
      "hello world\n",
      "hello world\n"
     ]
    }
   ],
   "source": [
    "i = 0\n",
    "while i<5:\n",
    "    print(\"hello world\")\n",
    "    i = i+1"
   ]
  },
  {
   "cell_type": "code",
   "execution_count": 4,
   "id": "449563c5",
   "metadata": {},
   "outputs": [
    {
     "name": "stdout",
     "output_type": "stream",
     "text": [
      "hello world\n",
      "hello world\n",
      "hello world\n",
      "hello world\n"
     ]
    }
   ],
   "source": [
    "i = 1\n",
    "while i<5:\n",
    "    print(\"hello world\")\n",
    "    i = i+1"
   ]
  },
  {
   "cell_type": "code",
   "execution_count": 7,
   "id": "b3dfc366",
   "metadata": {},
   "outputs": [
    {
     "name": "stdout",
     "output_type": "stream",
     "text": [
      "Enter n = 5\n",
      "5 * 0 = 0\n",
      "5 * 1 = 5\n",
      "5 * 2 = 10\n",
      "5 * 3 = 15\n",
      "5 * 4 = 20\n",
      "5 * 5 = 25\n",
      "5 * 6 = 30\n",
      "5 * 7 = 35\n",
      "5 * 8 = 40\n",
      "5 * 9 = 45\n",
      "5 * 10 = 50\n"
     ]
    }
   ],
   "source": [
    "#multiplicaition table using while loop\n",
    "i = 0\n",
    "n = int(input(\"Enter n = \"))\n",
    "while i<=10:\n",
    "    print(n, '*', i, '=', n*i)\n",
    "    i =i+1"
   ]
  },
  {
   "cell_type": "code",
   "execution_count": 8,
   "id": "c01e97da",
   "metadata": {},
   "outputs": [
    {
     "name": "stdout",
     "output_type": "stream",
     "text": [
      "Enter n = 2\n",
      "Enter x = 27\n",
      "sum =  27\n",
      "Enter x = 33\n",
      "sum =  60\n"
     ]
    }
   ],
   "source": [
    "s = 0\n",
    "i = 0\n",
    "n = int(input(\"Enter n = \"))\n",
    "while i<n:\n",
    "    x = int (input(\"Enter x = \"))\n",
    "    s = s+x\n",
    "    print(\"sum = \",s)\n",
    "    i = i+1"
   ]
  },
  {
   "cell_type": "code",
   "execution_count": 12,
   "id": "ec000630",
   "metadata": {},
   "outputs": [
    {
     "name": "stdout",
     "output_type": "stream",
     "text": [
      "Enter n = 2\n",
      "enter x = ram\n",
      "ram\n"
     ]
    }
   ],
   "source": [
    "s = \"\"\n",
    "i = 1\n",
    "n =int(input(\"Enter n = \"))\n",
    "while i<=n:\n",
    "    x = input(\"enter x = \")\n",
    "    s = s+x\n",
    "    i = i+1\n",
    "    \n",
    "    \n",
    "print(s)\n"
   ]
  },
  {
   "cell_type": "code",
   "execution_count": null,
   "id": "71024592",
   "metadata": {},
   "outputs": [],
   "source": [
    "# control statement\n",
    "# break\n",
    "# continous\n",
    "# pass"
   ]
  },
  {
   "cell_type": "code",
   "execution_count": 15,
   "id": "fc9ea7e0",
   "metadata": {},
   "outputs": [
    {
     "name": "stdout",
     "output_type": "stream",
     "text": [
      "0\n",
      "1\n",
      "2\n",
      "3\n",
      "4\n"
     ]
    }
   ],
   "source": [
    "i = 0\n",
    "while i<=10:\n",
    "    if i==5:\n",
    "     break\n",
    "    print(i)\n",
    "    i = i+1"
   ]
  },
  {
   "cell_type": "code",
   "execution_count": 18,
   "id": "9c8cb912",
   "metadata": {},
   "outputs": [
    {
     "name": "stdout",
     "output_type": "stream",
     "text": [
      "0 1 2 3 4 6 7 8 9 10 "
     ]
    }
   ],
   "source": [
    "#finite loop\n",
    "i = 0\n",
    "while i<=10:\n",
    "    if i==5:\n",
    "      i =i+1\n",
    "      continue\n",
    "    print(i,end = \" \")\n",
    "    i = i+1"
   ]
  },
  {
   "cell_type": "code",
   "execution_count": 19,
   "id": "635b418f",
   "metadata": {},
   "outputs": [
    {
     "name": "stdout",
     "output_type": "stream",
     "text": [
      "0 1 2 3 4 "
     ]
    },
    {
     "ename": "KeyboardInterrupt",
     "evalue": "",
     "output_type": "error",
     "traceback": [
      "\u001b[1;31m---------------------------------------------------------------------------\u001b[0m",
      "\u001b[1;31mKeyboardInterrupt\u001b[0m                         Traceback (most recent call last)",
      "Cell \u001b[1;32mIn[19], line 5\u001b[0m\n\u001b[0;32m      3\u001b[0m \u001b[38;5;28;01mwhile\u001b[39;00m i\u001b[38;5;241m<\u001b[39m\u001b[38;5;241m=\u001b[39m\u001b[38;5;241m10\u001b[39m:\n\u001b[0;32m      4\u001b[0m     \u001b[38;5;28;01mif\u001b[39;00m i\u001b[38;5;241m==\u001b[39m\u001b[38;5;241m5\u001b[39m:\n\u001b[1;32m----> 5\u001b[0m       \u001b[38;5;28;01mcontinue\u001b[39;00m\n\u001b[0;32m      6\u001b[0m     \u001b[38;5;28mprint\u001b[39m(i,end \u001b[38;5;241m=\u001b[39m \u001b[38;5;124m\"\u001b[39m\u001b[38;5;124m \u001b[39m\u001b[38;5;124m\"\u001b[39m)\n\u001b[0;32m      7\u001b[0m     i \u001b[38;5;241m=\u001b[39m i\u001b[38;5;241m+\u001b[39m\u001b[38;5;241m1\u001b[39m\n",
      "\u001b[1;31mKeyboardInterrupt\u001b[0m: "
     ]
    }
   ],
   "source": [
    "#infinite loop\n",
    "i = 0\n",
    "while i<=10:\n",
    "    if i==5:\n",
    "      continue\n",
    "    print(i,end = \" \")\n",
    "    i = i+1"
   ]
  },
  {
   "cell_type": "code",
   "execution_count": 20,
   "id": "09303763",
   "metadata": {},
   "outputs": [
    {
     "name": "stdout",
     "output_type": "stream",
     "text": [
      "0\n"
     ]
    }
   ],
   "source": [
    "#string\n",
    "a = \"python\"\n",
    "print(0)"
   ]
  },
  {
   "cell_type": "code",
   "execution_count": 24,
   "id": "4c68f916",
   "metadata": {},
   "outputs": [
    {
     "name": "stdout",
     "output_type": "stream",
     "text": [
      "p\n",
      "y\n",
      "t\n",
      "h\n",
      "o\n",
      "n\n"
     ]
    }
   ],
   "source": [
    "#string\n",
    "i = 0\n",
    "a = \"python\"\n",
    "l = len(a)\n",
    "while i<l:\n",
    "    print(a[i])\n",
    "    i = i+1"
   ]
  },
  {
   "cell_type": "code",
   "execution_count": 26,
   "id": "83ac19c1",
   "metadata": {},
   "outputs": [
    {
     "name": "stdout",
     "output_type": "stream",
     "text": [
      "Hello world I am Python"
     ]
    }
   ],
   "source": [
    "i = 0\n",
    "a = \"Hello world. I am Python.\"\n",
    "while i<len(a):\n",
    "    if a[i] != \".\":\n",
    "      print(a[i],end = \"\")\n",
    "    i = i+1"
   ]
  },
  {
   "cell_type": "code",
   "execution_count": 35,
   "id": "be295cd6",
   "metadata": {},
   "outputs": [
    {
     "name": "stdout",
     "output_type": "stream",
     "text": [
      "Hello world.\n"
     ]
    }
   ],
   "source": [
    "i = 0\n",
    "a = \"Hello world. I am Python.\"\n",
    "while i<len(a):\n",
    "    if a[i] == \".\":\n",
    "        break\n",
    "    print(a[i],end = \"\")\n",
    "    i = i+1\n",
    "print('.')"
   ]
  },
  {
   "cell_type": "code",
   "execution_count": null,
   "id": "db520fc3",
   "metadata": {},
   "outputs": [],
   "source": [
    "# WAP to create a billing system\n",
    "# name\n",
    "# price\n",
    "# quantity\n",
    "# total\n",
    "# Output:\n",
    "#     Momo 1 200 200\n",
    "#     coke 2 100 200\n",
    "\n",
    "# WAP to create a result management system\n",
    "# name physics chemistry math english nepali total per grade\n",
    "\n",
    "\n",
    "# WAP to detect prime or composite number"
   ]
  },
  {
   "cell_type": "code",
   "execution_count": 47,
   "id": "a0f81237",
   "metadata": {},
   "outputs": [
    {
     "name": "stdout",
     "output_type": "stream",
     "text": [
      "Enter the num3\n",
      "Enter namemomo\n",
      "price120\n",
      "Quantity2\n",
      "Enter namechowmein\n",
      "price110\n",
      "Quantity3\n",
      "Enter namesamosa\n",
      "price30\n",
      "Quantity4\n",
      "name \t rice \t quantity \t total \n",
      "\n",
      "momo\t120\t2\t240\n",
      "chowmein\t110\t3\t330\n",
      "samosa\t30\t4\t120\n",
      "\n"
     ]
    }
   ],
   "source": [
    "i=1\n",
    "p=''\n",
    "n = int(input(\"Enter the num\"))\n",
    "while i<=n:\n",
    "    \n",
    "            a=input(\"Enter name\")\n",
    "            b=input(\"price\")\n",
    "            c=input(\"Quantity\")\n",
    "            z=str(int(b)*int(c))\n",
    "            p=p+a+'\\t'+b+'\\t'+c+'\\t'+z+'\\n'\n",
    "            i=i+1\n",
    "print(\"name\",'\\t',\"rice\",'\\t',\"quantity\",'\\t',\"total\",'\\n') \n",
    "print(p)"
   ]
  },
  {
   "cell_type": "code",
   "execution_count": 4,
   "id": "9029e2cb",
   "metadata": {},
   "outputs": [
    {
     "name": "stdout",
     "output_type": "stream",
     "text": [
      "Enter n = 3\n",
      "Enter name = momo\n",
      "Enter price = 120\n",
      "Entr quantity = 2\n",
      "momo 120 2.0 240.0\n",
      "\n",
      "Enter name = chowmein\n",
      "Enter price = 110\n",
      "Entr quantity = 3\n",
      "momo 120 2.0 240.0\n",
      "chowmein 110 3.0 330.0\n",
      "\n",
      "Enter name = samosa\n",
      "Enter price = 30\n",
      "Entr quantity = 4\n",
      "momo 120 2.0 240.0\n",
      "chowmein 110 3.0 330.0\n",
      "samosa 30 4.0 120.0\n",
      "\n"
     ]
    }
   ],
   "source": [
    "#same as above\n",
    "bill = \"\"\n",
    "n = int(input(\"Enter n = \"))\n",
    "for i in range(n):\n",
    "    name = input(\"Enter name = \")\n",
    "    price = int(input(\"Enter price = \"))\n",
    "    quantity = float(input(\"Entr quantity = \"))\n",
    "    total = price * quantity\n",
    "    bill = bill + f\"{name} {price} {quantity} {total}\\n\"\n",
    "    print(bill)"
   ]
  },
  {
   "cell_type": "code",
   "execution_count": 26,
   "id": "b2144354",
   "metadata": {},
   "outputs": [
    {
     "name": "stdout",
     "output_type": "stream",
     "text": [
      "no\n"
     ]
    }
   ],
   "source": [
    "a= \"ra shayam hari sita gita sameer\"\n",
    "if \"ram\" in a:\n",
    "    print(\"yes\")\n",
    "    print(a.count(name))\n",
    "    \n",
    "else :\n",
    "    print(\"no\")"
   ]
  },
  {
   "cell_type": "code",
   "execution_count": 25,
   "id": "c1d5bb72",
   "metadata": {},
   "outputs": [
    {
     "name": "stdout",
     "output_type": "stream",
     "text": [
      "enter the nameram\n",
      "yes\n",
      "1\n"
     ]
    }
   ],
   "source": [
    "a= \"ram shayam hari sita gita sameer\"\n",
    "name =input(\"enter the name\")\n",
    "\n",
    "\n",
    "if name in a:\n",
    "\n",
    "    print(\"yes\")\n",
    "    print(a.count(name))\n",
    "    \n",
    "else :\n",
    "    print(\"no\")"
   ]
  },
  {
   "cell_type": "code",
   "execution_count": 22,
   "id": "003b045a",
   "metadata": {},
   "outputs": [
    {
     "name": "stdout",
     "output_type": "stream",
     "text": [
      "RAM SHAYAM HARI SITA GITA SAMEER\n",
      "ram shayam hari sita gita sameer\n",
      "ram shayam hari sita gita sameer\n"
     ]
    }
   ],
   "source": [
    "a= \"ram shayam hari sita gita sameer\"\n",
    "print(a.upper())\n",
    "print(a.lower())\n",
    "print(a)"
   ]
  },
  {
   "cell_type": "code",
   "execution_count": 21,
   "id": "b589fe09",
   "metadata": {},
   "outputs": [
    {
     "name": "stdout",
     "output_type": "stream",
     "text": [
      "enter the nameram\n",
      "yes\n",
      "1\n"
     ]
    }
   ],
   "source": [
    "\n",
    "a= \"ram shayam hari sita gita sameer\".lower()\n",
    "name =input(\"enter the name\").lower()\n",
    "\n",
    "\n",
    "if name in a:\n",
    "\n",
    "    print(\"yes\")\n",
    "    print(a.count(name))\n",
    "    \n",
    "else :\n",
    "    print(\"no\")"
   ]
  },
  {
   "cell_type": "code",
   "execution_count": 20,
   "id": "20fb3723",
   "metadata": {},
   "outputs": [
    {
     "name": "stdout",
     "output_type": "stream",
     "text": [
      "enter the nameram\n",
      "yes\n",
      "2\n"
     ]
    }
   ],
   "source": [
    "#string search nsequence of character(here ram is 2{in ramesh})\n",
    "a= \"ram shayam hari sita gita sameer ramesh\".lower()\n",
    "name =input(\"enter the name\").lower()\n",
    "\n",
    "\n",
    "if name in a:\n",
    "\n",
    "    print(\"yes\")\n",
    "    print(a.count(name))\n",
    "    \n",
    "else :\n",
    "    print(\"no\")"
   ]
  },
  {
   "cell_type": "code",
   "execution_count": 19,
   "id": "a4dbaf0f",
   "metadata": {},
   "outputs": [
    {
     "name": "stdout",
     "output_type": "stream",
     "text": [
      "rama shayam hari sita gita sameer ramaesh\n",
      "ram shayam hari sita gita sameer ramesh\n"
     ]
    }
   ],
   "source": [
    "#replace and same\n",
    "a= \"ram shayam hari sita gita sameer ramesh\"\n",
    "print(a.replace('ram','rama'))\n",
    "print(a)"
   ]
  },
  {
   "cell_type": "code",
   "execution_count": 18,
   "id": "d7e4152b",
   "metadata": {},
   "outputs": [
    {
     "name": "stdout",
     "output_type": "stream",
     "text": [
      "rama shayam hari sita gita sameer ramaesh\n"
     ]
    }
   ],
   "source": [
    "#replace\n",
    "a= \"ram shayam hari sita gita sameer ramesh\"\n",
    "a = a.replace('ram','rama')\n",
    "print(a)"
   ]
  },
  {
   "cell_type": "code",
   "execution_count": 17,
   "id": "b48c05d4",
   "metadata": {},
   "outputs": [
    {
     "name": "stdout",
     "output_type": "stream",
     "text": [
      " shayam hari sita gita sameer esh\n"
     ]
    }
   ],
   "source": [
    "#delete\n",
    "a= \"ram shayam hari sita gita sameer ramesh\"\n",
    "a = a.replace('ram','')\n",
    "print(a)"
   ]
  },
  {
   "cell_type": "code",
   "execution_count": 28,
   "id": "9def1e6e",
   "metadata": {},
   "outputs": [
    {
     "name": "stdout",
     "output_type": "stream",
     "text": [
      "ram\n"
     ]
    }
   ],
   "source": [
    "#slicing\n",
    "a= \"ram shayam hari sita gita sameer ramesh\"\n",
    "b = a[0:3]\n",
    "print(b)"
   ]
  },
  {
   "cell_type": "code",
   "execution_count": 29,
   "id": "2b659978",
   "metadata": {},
   "outputs": [
    {
     "name": "stdout",
     "output_type": "stream",
     "text": [
      "ram shayam\n"
     ]
    }
   ],
   "source": [
    "#slicing\n",
    "a= \"ram shayam hari sita gita sameer ramesh\"\n",
    "b = a[0:10]\n",
    "print(b)"
   ]
  },
  {
   "cell_type": "code",
   "execution_count": 37,
   "id": "e4471637",
   "metadata": {},
   "outputs": [
    {
     "name": "stdout",
     "output_type": "stream",
     "text": [
      "enter the nameram\n",
      "yes\n",
      "2\n"
     ]
    }
   ],
   "source": [
    "#string search nsequence of character\n",
    "a = \"ram shayam hari sita gita sameer ramesh\".lower()\n",
    "name =input(\"enter the name\").lower()\n",
    "\n",
    "\n",
    "if name in a:\n",
    "\n",
    "    print(\"yes\")\n",
    "    print(a.count(name))\n",
    "    \n",
    "else :\n",
    "    print(\"no\")"
   ]
  },
  {
   "cell_type": "code",
   "execution_count": null,
   "id": "1b1b5114",
   "metadata": {},
   "outputs": [],
   "source": []
  },
  {
   "cell_type": "code",
   "execution_count": 36,
   "id": "c138b4c3",
   "metadata": {},
   "outputs": [
    {
     "name": "stdout",
     "output_type": "stream",
     "text": [
      "Ram Shayam Hari Sita Gita Sameer Ramesh\n"
     ]
    }
   ],
   "source": [
    "a = \"ram shayam hari sita gita sameer ramesh\"\n",
    "print(a.title())"
   ]
  },
  {
   "cell_type": "code",
   "execution_count": 35,
   "id": "5b65a6b2",
   "metadata": {},
   "outputs": [
    {
     "name": "stdout",
     "output_type": "stream",
     "text": [
      "['ram', 'shayam', 'hari', 'sita', 'gita', 'sameer', 'ramesh']\n"
     ]
    }
   ],
   "source": [
    "a = \"ram shayam hari sita gita sameer ramesh\"\n",
    "print(a.split())"
   ]
  },
  {
   "cell_type": "code",
   "execution_count": 34,
   "id": "ed86e12d",
   "metadata": {},
   "outputs": [
    {
     "name": "stdout",
     "output_type": "stream",
     "text": [
      "['ram shayam hari sita gita sameer ramesh']\n"
     ]
    }
   ],
   "source": [
    "a = \"ram shayam hari sita gita sameer ramesh\"\n",
    "print(a.split(','))"
   ]
  },
  {
   "cell_type": "code",
   "execution_count": 38,
   "id": "43514cf7",
   "metadata": {},
   "outputs": [
    {
     "data": {
      "text/plain": [
       "'!@#$%%^&*'"
      ]
     },
     "execution_count": 38,
     "metadata": {},
     "output_type": "execute_result"
    }
   ],
   "source": [
    "a ='''!@#$%%^&*'''\n",
    "a"
   ]
  },
  {
   "cell_type": "code",
   "execution_count": 39,
   "id": "d888e165",
   "metadata": {},
   "outputs": [
    {
     "data": {
      "text/plain": [
       "True"
      ]
     },
     "execution_count": 39,
     "metadata": {},
     "output_type": "execute_result"
    }
   ],
   "source": [
    "#isdigit\n",
    "a = \"100\"\n",
    "a.isdigit()"
   ]
  },
  {
   "cell_type": "code",
   "execution_count": 46,
   "id": "1ed1ca11",
   "metadata": {},
   "outputs": [
    {
     "data": {
      "text/plain": [
       "False"
      ]
     },
     "execution_count": 46,
     "metadata": {},
     "output_type": "execute_result"
    }
   ],
   "source": [
    "# isupper() islower()\n",
    "a = \"ram shayam hari sita gita sameer ramesh\"\n",
    "a.isupper()"
   ]
  },
  {
   "cell_type": "code",
   "execution_count": 44,
   "id": "7e5b7d14",
   "metadata": {},
   "outputs": [
    {
     "data": {
      "text/plain": [
       "True"
      ]
     },
     "execution_count": 44,
     "metadata": {},
     "output_type": "execute_result"
    }
   ],
   "source": [
    "a = \"ram shayam hari sita gita sameer ramesh\"\n",
    "a.islower()"
   ]
  },
  {
   "cell_type": "code",
   "execution_count": 48,
   "id": "16a092c4",
   "metadata": {},
   "outputs": [
    {
     "name": "stdout",
     "output_type": "stream",
     "text": [
      "HelloWorld\n"
     ]
    }
   ],
   "source": [
    "# join()\n",
    "a = \"\"\n",
    "b = [\"Hello\",\"World\"]\n",
    "print(a.join(b))"
   ]
  },
  {
   "cell_type": "code",
   "execution_count": null,
   "id": "d1dca91b",
   "metadata": {},
   "outputs": [],
   "source": []
  }
 ],
 "metadata": {
  "kernelspec": {
   "display_name": "Python 3 (ipykernel)",
   "language": "python",
   "name": "python3"
  },
  "language_info": {
   "codemirror_mode": {
    "name": "ipython",
    "version": 3
   },
   "file_extension": ".py",
   "mimetype": "text/x-python",
   "name": "python",
   "nbconvert_exporter": "python",
   "pygments_lexer": "ipython3",
   "version": "3.10.9"
  }
 },
 "nbformat": 4,
 "nbformat_minor": 5
}
