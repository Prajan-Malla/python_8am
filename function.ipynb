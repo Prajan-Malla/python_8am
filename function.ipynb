{
 "cells": [
  {
   "cell_type": "code",
   "execution_count": 1,
   "id": "2b728910",
   "metadata": {},
   "outputs": [
    {
     "ename": "SyntaxError",
     "evalue": "invalid syntax (4053094139.py, line 1)",
     "output_type": "error",
     "traceback": [
      "\u001b[1;36m  Cell \u001b[1;32mIn[1], line 1\u001b[1;36m\u001b[0m\n\u001b[1;33m    def <function_name>():\u001b[0m\n\u001b[1;37m        ^\u001b[0m\n\u001b[1;31mSyntaxError\u001b[0m\u001b[1;31m:\u001b[0m invalid syntax\n"
     ]
    }
   ],
   "source": [
    "def <function_name>():"
   ]
  },
  {
   "cell_type": "code",
   "execution_count": 2,
   "id": "dfe3196c",
   "metadata": {},
   "outputs": [],
   "source": [
    "#  predefined function\n",
    "#  print() input() type() list() tuple() dict() set() str()   "
   ]
  },
  {
   "cell_type": "code",
   "execution_count": 3,
   "id": "518939d0",
   "metadata": {},
   "outputs": [],
   "source": [
    "# def <function_name():\n",
    "#     <operation>\n",
    "    \n",
    "    \n",
    "    \n",
    "# <function_name>()    "
   ]
  },
  {
   "cell_type": "code",
   "execution_count": 4,
   "id": "b929808c",
   "metadata": {},
   "outputs": [
    {
     "name": "stdout",
     "output_type": "stream",
     "text": [
      "Hello World\n"
     ]
    }
   ],
   "source": [
    "def hello():                     #defining function\n",
    "    print(\"Hello World\")\n",
    "    \n",
    "    \n",
    "hello()                          #calling function    "
   ]
  },
  {
   "cell_type": "code",
   "execution_count": 6,
   "id": "ae0959c3",
   "metadata": {},
   "outputs": [
    {
     "name": "stdout",
     "output_type": "stream",
     "text": [
      "Enter l = 100\n",
      "Enter b = 23\n",
      "2300\n"
     ]
    }
   ],
   "source": [
    "def cal():\n",
    "    l = int(input(\"Enter l = \"))      #local variable\n",
    "    b = int(input(\"Enter b = \"))      #local variable\n",
    "    a = l*b\n",
    "    print(a)\n",
    "    \n",
    "cal()    "
   ]
  },
  {
   "cell_type": "code",
   "execution_count": 7,
   "id": "01d0ee91",
   "metadata": {},
   "outputs": [
    {
     "name": "stdout",
     "output_type": "stream",
     "text": [
      "Enter l = 100\n",
      "Enter b = 23\n",
      "2300\n"
     ]
    }
   ],
   "source": [
    "l = int(input(\"Enter l = \"))      #global variable\n",
    "b = int(input(\"Enter b = \"))      #global variable\n",
    "\n",
    "def cal():\n",
    "    a = l*b\n",
    "    print(a)\n",
    "\n",
    "cal()    "
   ]
  },
  {
   "cell_type": "code",
   "execution_count": 8,
   "id": "08eb748a",
   "metadata": {},
   "outputs": [
    {
     "name": "stdout",
     "output_type": "stream",
     "text": [
      "Enter l = 100\n",
      "Enter b = 23\n",
      "2300\n",
      "100 23\n"
     ]
    }
   ],
   "source": [
    "def cal():\n",
    "    global l,b\n",
    "    l = int(input(\"Enter l = \"))      #glocal variable(local can be made global ut not vice versa)\n",
    "    b = int(input(\"Enter b = \"))      #glocal variable\n",
    "    a = l*b\n",
    "    print(a)\n",
    "    \n",
    "cal()  \n",
    "print(l,b)"
   ]
  },
  {
   "cell_type": "code",
   "execution_count": 9,
   "id": "8f79b476",
   "metadata": {},
   "outputs": [],
   "source": [
    "# function without argument and without return type\n",
    "# function with argument and without return type\n",
    "# function without argument and with return type\n",
    "# function with argument and with return type"
   ]
  },
  {
   "cell_type": "code",
   "execution_count": 2,
   "id": "d40a9c20",
   "metadata": {},
   "outputs": [
    {
     "name": "stdout",
     "output_type": "stream",
     "text": [
      "Enter l = 100\n",
      "Enter b = 23\n",
      "2300\n"
     ]
    }
   ],
   "source": [
    "def cal(l,b):                       #parameter\n",
    "    a = l*b\n",
    "    print(a)\n",
    "\n",
    "l = int(input(\"Enter l = \"))      #global variable\n",
    "b = int(input(\"Enter b = \"))      #global variable\n",
    "cal(l,b)                          #calling the function l,b => argument"
   ]
  },
  {
   "cell_type": "code",
   "execution_count": 5,
   "id": "1b0e3f1f",
   "metadata": {},
   "outputs": [
    {
     "name": "stdout",
     "output_type": "stream",
     "text": [
      "Enter name = Ram\n",
      "Enter age = 19\n",
      "Enter add = Thimi\n",
      "Hello World I am Ram. I am 19. I am from Thimi.\n"
     ]
    }
   ],
   "source": [
    "def info(name,age,add):     #def info (x,y,z) can be written\n",
    "    print(f\"Hello World I am {name}. I am {age}. I am from {add}.\")\n",
    "\n",
    "name = input(\"Enter name = \")\n",
    "age = int(input(\"Enter age = \"))\n",
    "add = input(\"Enter add = \")\n",
    "\n",
    "info(name,age,add)"
   ]
  },
  {
   "cell_type": "code",
   "execution_count": 6,
   "id": "b5e5cfd1",
   "metadata": {},
   "outputs": [
    {
     "data": {
      "text/plain": [
       "'Hello'"
      ]
     },
     "execution_count": 6,
     "metadata": {},
     "output_type": "execute_result"
    }
   ],
   "source": [
    "def cal():\n",
    "    x = \"Hello\"\n",
    "    return x\n",
    "\n",
    "cal()"
   ]
  },
  {
   "cell_type": "code",
   "execution_count": 7,
   "id": "b997ae91",
   "metadata": {},
   "outputs": [
    {
     "name": "stdout",
     "output_type": "stream",
     "text": [
      "Hello\n"
     ]
    }
   ],
   "source": [
    "#function without argument and return type\n",
    "def cal():\n",
    "    x = \"Hello\"\n",
    "    return x\n",
    "\n",
    "print(cal())"
   ]
  },
  {
   "cell_type": "code",
   "execution_count": 3,
   "id": "28c45c3a",
   "metadata": {},
   "outputs": [
    {
     "name": "stdout",
     "output_type": "stream",
     "text": [
      "Hello\n"
     ]
    }
   ],
   "source": [
    "#function without argument and return type\n",
    "def cal():\n",
    "    x = \"Hello\"\n",
    "    return x\n",
    "\n",
    "y = cal()\n",
    "print(y)"
   ]
  },
  {
   "cell_type": "code",
   "execution_count": 6,
   "id": "32edf3be",
   "metadata": {},
   "outputs": [
    {
     "data": {
      "text/plain": [
       "'Hello World'"
      ]
     },
     "execution_count": 6,
     "metadata": {},
     "output_type": "execute_result"
    }
   ],
   "source": [
    "#function without argument and return type\n",
    "def cal():\n",
    "    x = \"Hello \"\n",
    "    return x\n",
    "\n",
    "y = cal()\n",
    "z = y + \"World\"\n",
    "z"
   ]
  },
  {
   "cell_type": "code",
   "execution_count": 5,
   "id": "954b6046",
   "metadata": {},
   "outputs": [
    {
     "name": "stdout",
     "output_type": "stream",
     "text": [
      "Enter l = 100\n",
      "Enter b = 23\n",
      "Enter h = 45\n",
      "103500\n"
     ]
    }
   ],
   "source": [
    "#function without argument and return type\n",
    "def cal():\n",
    "    l = int(input(\"Enter l = \"))      #local variable\n",
    "    b = int(input(\"Enter b = \"))      #local variable\n",
    "    a = l*b\n",
    "    return a\n",
    "ar =  cal()\n",
    "h = int(input(\"Enter h = \"))\n",
    "v = ar*h\n",
    "v"
   ]
  },
  {
   "cell_type": "code",
   "execution_count": 7,
   "id": "15041d0a",
   "metadata": {},
   "outputs": [
    {
     "name": "stdout",
     "output_type": "stream",
     "text": [
      "Enter l = 100\n",
      "Enter b = 23\n",
      "Enter h = 45\n"
     ]
    },
    {
     "data": {
      "text/plain": [
       "103500"
      ]
     },
     "execution_count": 7,
     "metadata": {},
     "output_type": "execute_result"
    }
   ],
   "source": [
    "#function with argument and return type\n",
    "def cal():\n",
    "    \n",
    "    a = l*b\n",
    "    return a\n",
    "    \n",
    "    \n",
    "l = int(input(\"Enter l = \"))      #glocal variable\n",
    "b = int(input(\"Enter b = \"))      #glocal variable\n",
    "\n",
    "ar =  cal()\n",
    "h = int(input(\"Enter h = \"))\n",
    "v = ar*h\n",
    "v"
   ]
  },
  {
   "cell_type": "code",
   "execution_count": 8,
   "id": "40866378",
   "metadata": {},
   "outputs": [
    {
     "name": "stdout",
     "output_type": "stream",
     "text": [
      "C\n",
      "C++\n",
      "C#\n",
      "java\n",
      "Python\n"
     ]
    }
   ],
   "source": [
    "# define parameter value\n",
    "def language(lan = \"Python\"):\n",
    "    print(lan)\n",
    "\n",
    "language(\"C\")\n",
    "language(\"C++\")\n",
    "language(\"C#\")\n",
    "language(\"java\")\n",
    "language()"
   ]
  },
  {
   "cell_type": "code",
   "execution_count": 6,
   "id": "2fa0d943",
   "metadata": {},
   "outputs": [
    {
     "name": "stdout",
     "output_type": "stream",
     "text": [
      "Hello World\n",
      "Enter y for more print.y\n",
      "Hello World\n",
      "Enter y for more print.y\n",
      "Hello World\n",
      "Enter y for more print.y\n",
      "Hello World\n",
      "Enter y for more print.a\n"
     ]
    }
   ],
   "source": [
    "#recursive function\n",
    "def hello():\n",
    "    print(\"Hello World\")\n",
    "    x = input(\"Enter y for more print.\")\n",
    "    if x == 'y':\n",
    "        hello()\n",
    "\n",
    "hello()"
   ]
  },
  {
   "cell_type": "code",
   "execution_count": 1,
   "id": "a98bac0c",
   "metadata": {},
   "outputs": [
    {
     "name": "stdout",
     "output_type": "stream",
     "text": [
      "Hello World\n",
      "Hello World\n"
     ]
    }
   ],
   "source": [
    "def hello():\n",
    "    print(\"Hello World\")\n",
    "hello()\n",
    "\n",
    "hello()"
   ]
  },
  {
   "cell_type": "code",
   "execution_count": 7,
   "id": "3dea0575",
   "metadata": {},
   "outputs": [],
   "source": [
    "# math function"
   ]
  },
  {
   "cell_type": "code",
   "execution_count": 8,
   "id": "fe0ac1d0",
   "metadata": {},
   "outputs": [
    {
     "name": "stdout",
     "output_type": "stream",
     "text": [
      "3.141592653589793\n"
     ]
    }
   ],
   "source": [
    "import math as m\n",
    "print(m.pi)"
   ]
  },
  {
   "cell_type": "code",
   "execution_count": 9,
   "id": "16b3e0df",
   "metadata": {},
   "outputs": [
    {
     "name": "stdout",
     "output_type": "stream",
     "text": [
      "2.718281828459045\n"
     ]
    }
   ],
   "source": [
    "print(m.e)"
   ]
  },
  {
   "cell_type": "code",
   "execution_count": 11,
   "id": "68495408",
   "metadata": {},
   "outputs": [
    {
     "name": "stdout",
     "output_type": "stream",
     "text": [
      "120\n"
     ]
    }
   ],
   "source": [
    "print(m.factorial(5))"
   ]
  },
  {
   "cell_type": "code",
   "execution_count": 12,
   "id": "b3b3ef88",
   "metadata": {},
   "outputs": [
    {
     "name": "stdout",
     "output_type": "stream",
     "text": [
      "720\n"
     ]
    }
   ],
   "source": [
    "print(m.factorial(6))"
   ]
  },
  {
   "cell_type": "code",
   "execution_count": 13,
   "id": "8028b277",
   "metadata": {},
   "outputs": [
    {
     "data": {
      "text/plain": [
       "1.2246467991473532e-16"
      ]
     },
     "execution_count": 13,
     "metadata": {},
     "output_type": "execute_result"
    }
   ],
   "source": [
    "m. sin(m.pi)"
   ]
  },
  {
   "cell_type": "code",
   "execution_count": 14,
   "id": "3b38d36a",
   "metadata": {},
   "outputs": [
    {
     "data": {
      "text/plain": [
       "1.0"
      ]
     },
     "execution_count": 14,
     "metadata": {},
     "output_type": "execute_result"
    }
   ],
   "source": [
    "m. sin(m.pi/2)"
   ]
  },
  {
   "cell_type": "code",
   "execution_count": 15,
   "id": "02fa6b2b",
   "metadata": {},
   "outputs": [
    {
     "data": {
      "text/plain": [
       "6.123233995736766e-17"
      ]
     },
     "execution_count": 15,
     "metadata": {},
     "output_type": "execute_result"
    }
   ],
   "source": [
    "m.cos(m.pi/2)"
   ]
  },
  {
   "cell_type": "code",
   "execution_count": 16,
   "id": "42246f34",
   "metadata": {},
   "outputs": [
    {
     "data": {
      "text/plain": [
       "1.633123935319537e+16"
      ]
     },
     "execution_count": 16,
     "metadata": {},
     "output_type": "execute_result"
    }
   ],
   "source": [
    "m.tan(m.pi/2)"
   ]
  },
  {
   "cell_type": "code",
   "execution_count": null,
   "id": "eccfaeaf",
   "metadata": {},
   "outputs": [],
   "source": []
  }
 ],
 "metadata": {
  "kernelspec": {
   "display_name": "Python 3 (ipykernel)",
   "language": "python",
   "name": "python3"
  },
  "language_info": {
   "codemirror_mode": {
    "name": "ipython",
    "version": 3
   },
   "file_extension": ".py",
   "mimetype": "text/x-python",
   "name": "python",
   "nbconvert_exporter": "python",
   "pygments_lexer": "ipython3",
   "version": "3.10.9"
  }
 },
 "nbformat": 4,
 "nbformat_minor": 5
}
