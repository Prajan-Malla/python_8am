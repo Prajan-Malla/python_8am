{
 "cells": [
  {
   "cell_type": "code",
   "execution_count": 4,
   "id": "a909a8d2",
   "metadata": {},
   "outputs": [],
   "source": [
    "import mysql.connector\n",
    "#importing database\n",
    "database = mysql.connector.connect(\n",
    "            host=\"localhost\",\n",
    "            user=\"root\",\n",
    "            password=\"\",\n",
    "            database = \"class_8am\"\n",
    "        )\n",
    "db = database.cursor()"
   ]
  },
  {
   "cell_type": "code",
   "execution_count": 5,
   "id": "e061cebc",
   "metadata": {},
   "outputs": [
    {
     "name": "stdout",
     "output_type": "stream",
     "text": [
      "1 record inserted.\n"
     ]
    }
   ],
   "source": [
    "sql='''INSERT INTO `student` (`sn`, `name`, `physics`, `chemistry`, `maths`, `english`, `nepali`, `total`, `per`, `grade`) \n",
    "VALUES ('1', 'Ram ', '89', '75', '99', '84', '76', '465', '83', 'A')'''\n",
    "\n",
    "db.execute(sql)\n",
    "\n",
    "database.commit()\n",
    "print(db.rowcount, \"record inserted.\")"
   ]
  },
  {
   "cell_type": "code",
   "execution_count": 11,
   "id": "dbe26dbf",
   "metadata": {},
   "outputs": [
    {
     "name": "stdout",
     "output_type": "stream",
     "text": [
      "Enter your name = prajan\n",
      "enter the obtained marks in physics78\n",
      "enter the obtained marks in chemistry89\n",
      "enter the obtained marks in math7\n",
      "enter the obtained marks in english789\n",
      "enter the obtained marks in nepali9\n",
      "your total prcentage is   194\n",
      "1 record inserted.\n",
      "The total =  972\n",
      "The per =  194\n",
      "grade =  A\n"
     ]
    }
   ],
   "source": [
    "name = input(\"Enter your name = \")\n",
    "phy=int(input(\"enter the obtained marks in physics\"))\n",
    "chem=int(input(\"enter the obtained marks in chemistry\"))\n",
    "math=int(input(\"enter the obtained marks in math\"))\n",
    "eng=int(input(\"enter the obtained marks in english\"))\n",
    "nep=int(input(\"enter the obtained marks in nepali\"))\n",
    "total=phy+chem+math+eng+nep\n",
    "per=int(total/5)\n",
    "print(\"your total prcentage is  \",per)\n",
    "if (per>80) or (per==80):\n",
    "    grade = 'A'\n",
    "elif (per>60) or (per==60):\n",
    "    grade = 'B'\n",
    "elif (per>40) or (per==40):\n",
    "    grade = 'C'\n",
    "else:\n",
    "    grade = 'F'\n",
    "sql=f'''INSERT INTO `student` ( `name`, `physics`, `chemistry`, `maths`, `english`, `nepali`, `total`, `per`, `grade`) \n",
    "VALUES ( '{name}', '{phy}', '{chem}', '{math}', '{eng}', '{nep}', '{total}', '{per}', '{grade}')'''\n",
    "\n",
    "db.execute(sql)\n",
    "\n",
    "database.commit()\n",
    "print(db.rowcount, \"record inserted.\")   \n",
    "    \n",
    "print(\"The total = \",total)\n",
    "print(\"The per = \",per)\n",
    "print(\"grade = \",grade)\n",
    "\n"
   ]
  },
  {
   "cell_type": "code",
   "execution_count": 14,
   "id": "8c843856",
   "metadata": {},
   "outputs": [
    {
     "ename": "NameError",
     "evalue": "name 'mycursor' is not defined",
     "output_type": "error",
     "traceback": [
      "\u001b[1;31m---------------------------------------------------------------------------\u001b[0m",
      "\u001b[1;31mNameError\u001b[0m                                 Traceback (most recent call last)",
      "Cell \u001b[1;32mIn[14], line 4\u001b[0m\n\u001b[0;32m      1\u001b[0m \u001b[38;5;66;03m# Update\u001b[39;00m\n\u001b[0;32m      2\u001b[0m sql \u001b[38;5;241m=\u001b[39m \u001b[38;5;124m\"\u001b[39m\u001b[38;5;124mUPDATE student SET name = \u001b[39m\u001b[38;5;124m'\u001b[39m\u001b[38;5;124mKabir\u001b[39m\u001b[38;5;124m'\u001b[39m\u001b[38;5;124m WHERE sn = 0\u001b[39m\u001b[38;5;124m\"\u001b[39m\n\u001b[1;32m----> 4\u001b[0m \u001b[43mmycursor\u001b[49m\u001b[38;5;241m.\u001b[39mexecute(sql)\n\u001b[0;32m      6\u001b[0m db\u001b[38;5;241m.\u001b[39mcommit()\n\u001b[0;32m      8\u001b[0m \u001b[38;5;28mprint\u001b[39m(mycursor\u001b[38;5;241m.\u001b[39mrowcount, \u001b[38;5;124m\"\u001b[39m\u001b[38;5;124mrecord(s)sffected\u001b[39m\u001b[38;5;124m\"\u001b[39m)\n",
      "\u001b[1;31mNameError\u001b[0m: name 'mycursor' is not defined"
     ]
    }
   ],
   "source": [
    "# Update\n",
    "sql = \"UPDATE student SET name = 'Kabir' WHERE sn = 0\"\n",
    "\n",
    "mycursor.execute(sql)\n",
    "\n",
    "db.commit()\n",
    "\n",
    "print(mycursor.rowcount, \"record(s)sffected\")"
   ]
  },
  {
   "cell_type": "code",
   "execution_count": null,
   "id": "0f627ac0",
   "metadata": {},
   "outputs": [],
   "source": []
  }
 ],
 "metadata": {
  "kernelspec": {
   "display_name": "Python 3 (ipykernel)",
   "language": "python",
   "name": "python3"
  },
  "language_info": {
   "codemirror_mode": {
    "name": "ipython",
    "version": 3
   },
   "file_extension": ".py",
   "mimetype": "text/x-python",
   "name": "python",
   "nbconvert_exporter": "python",
   "pygments_lexer": "ipython3",
   "version": "3.10.9"
  }
 },
 "nbformat": 4,
 "nbformat_minor": 5
}
