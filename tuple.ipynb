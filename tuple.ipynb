{
 "cells": [
  {
   "cell_type": "code",
   "execution_count": 1,
   "id": "cdd9f48a",
   "metadata": {},
   "outputs": [],
   "source": [
    "# Tuple\n",
    "# inndexing\n",
    "# multiple and duplicate\n",
    "# Imutable"
   ]
  },
  {
   "cell_type": "code",
   "execution_count": 2,
   "id": "a8bbb01e",
   "metadata": {},
   "outputs": [
    {
     "name": "stdout",
     "output_type": "stream",
     "text": [
      "<class 'tuple'>\n"
     ]
    }
   ],
   "source": [
    "t = tuple()\n",
    "t = ()\n",
    "print(type(t))"
   ]
  },
  {
   "cell_type": "code",
   "execution_count": 3,
   "id": "f88cd071",
   "metadata": {},
   "outputs": [
    {
     "name": "stdout",
     "output_type": "stream",
     "text": [
      "('Apple', 'Ball', 'Cat', 'Dog', 'Fish')\n",
      "(1, 2, 3, 4, 5)\n"
     ]
    }
   ],
   "source": [
    "t = (1,2,3,4,5)\n",
    "a = (\"Apple\",\"Ball\",\"Cat\",\"Dog\",\"Fish\")\n",
    "print(a)\n",
    "print(t)"
   ]
  },
  {
   "cell_type": "code",
   "execution_count": 4,
   "id": "1949ab9a",
   "metadata": {},
   "outputs": [
    {
     "name": "stdout",
     "output_type": "stream",
     "text": [
      "Apple\n",
      "('Apple', 'Ball', 'Cat', 'Dog', 'Fish')\n",
      "('Apple', 'Cat', 'Fish')\n"
     ]
    }
   ],
   "source": [
    "a = (\"Apple\",\"Ball\",\"Cat\",\"Dog\",\"Fish\")\n",
    "print(a[0])\n",
    "print(a[0:5])\n",
    "print(a[0:5:2])"
   ]
  },
  {
   "cell_type": "code",
   "execution_count": 5,
   "id": "f1af3699",
   "metadata": {},
   "outputs": [],
   "source": [
    "# # Imutable\n",
    "# No append(), insert(), extend()\n",
    "# no update\n",
    "# no delete\n",
    "# no sort"
   ]
  },
  {
   "cell_type": "code",
   "execution_count": 6,
   "id": "17527f90",
   "metadata": {},
   "outputs": [
    {
     "name": "stdout",
     "output_type": "stream",
     "text": [
      "('Apple', 'Ball', 'Cat', 'Dog', 'Fish', 'Apple')\n"
     ]
    }
   ],
   "source": [
    "# concatination\n",
    "a = (\"Apple\",\"Ball\",\"Cat\")\n",
    "b = (\"Dog\",\"Fish\",\"Apple\")\n",
    "c = a+b\n",
    "print(c)"
   ]
  },
  {
   "cell_type": "code",
   "execution_count": 7,
   "id": "f28785c3",
   "metadata": {},
   "outputs": [
    {
     "data": {
      "text/plain": [
       "str"
      ]
     },
     "execution_count": 7,
     "metadata": {},
     "output_type": "execute_result"
    }
   ],
   "source": [
    "a = (\"Apple\")\n",
    "type(a)"
   ]
  },
  {
   "cell_type": "code",
   "execution_count": 8,
   "id": "abcf991b",
   "metadata": {},
   "outputs": [
    {
     "data": {
      "text/plain": [
       "int"
      ]
     },
     "execution_count": 8,
     "metadata": {},
     "output_type": "execute_result"
    }
   ],
   "source": [
    "a = (1)\n",
    "type(a)"
   ]
  },
  {
   "cell_type": "code",
   "execution_count": 9,
   "id": "421d66dc",
   "metadata": {},
   "outputs": [
    {
     "data": {
      "text/plain": [
       "tuple"
      ]
     },
     "execution_count": 9,
     "metadata": {},
     "output_type": "execute_result"
    }
   ],
   "source": [
    "a = (\"Apple\",)  #when its comma at last then it is tuple if not then its integer\n",
    "type(a)"
   ]
  },
  {
   "cell_type": "code",
   "execution_count": 10,
   "id": "17fc89e9",
   "metadata": {},
   "outputs": [
    {
     "data": {
      "text/plain": [
       "('Ball', 'Dog', 'Fish', 'Apple')"
      ]
     },
     "execution_count": 10,
     "metadata": {},
     "output_type": "execute_result"
    }
   ],
   "source": [
    "a = ()\n",
    "a = (\"Ball\",)\n",
    "c = a+b\n",
    "c"
   ]
  },
  {
   "cell_type": "code",
   "execution_count": 5,
   "id": "cc88e4fd",
   "metadata": {},
   "outputs": [
    {
     "name": "stdout",
     "output_type": "stream",
     "text": [
      "enter the n= 5\n",
      "entre the x= 56\n",
      "entre the x= 76\n",
      "entre the x= 87\n",
      "entre the x= 87\n",
      "entre the x= 098\n",
      "(56, 76, 87, 87, 98)\n"
     ]
    }
   ],
   "source": [
    "t=()\n",
    "n=int(input(\"enter the n= \"))\n",
    "for i in range(n):\n",
    "    x=int(input(\"entre the x= \"))\n",
    "    t=t+(x,)\n",
    "    \n",
    "print(t)"
   ]
  },
  {
   "cell_type": "code",
   "execution_count": 13,
   "id": "36ec2b06",
   "metadata": {},
   "outputs": [
    {
     "name": "stdout",
     "output_type": "stream",
     "text": [
      "Sum =  1092\n",
      "max =  345\n",
      "min =  45\n"
     ]
    }
   ],
   "source": [
    "# sum() max() min()\n",
    "print(\"Sum = \",sum(t))\n",
    "print(\"max = \",max(t))\n",
    "print(\"min = \",min(t))"
   ]
  },
  {
   "cell_type": "code",
   "execution_count": 14,
   "id": "f1211293",
   "metadata": {},
   "outputs": [
    {
     "data": {
      "text/plain": [
       "2"
      ]
     },
     "execution_count": 14,
     "metadata": {},
     "output_type": "execute_result"
    }
   ],
   "source": [
    "# index\n",
    "a = ('Goat','Fish','Ant','Apple','Egg')\n",
    "a.index('Ant')"
   ]
  },
  {
   "cell_type": "code",
   "execution_count": 7,
   "id": "b5608125",
   "metadata": {},
   "outputs": [
    {
     "name": "stdout",
     "output_type": "stream",
     "text": [
      "Goat\n",
      "Fish\n",
      "Ant\n",
      "Apple\n",
      "Egg\n"
     ]
    }
   ],
   "source": [
    "# index\n",
    "a = ('Goat','Fish','Ant','Apple','Egg')\n",
    "l = len(a)\n",
    "for i in range(l):\n",
    "    print(a[i])"
   ]
  },
  {
   "cell_type": "code",
   "execution_count": 8,
   "id": "4d6ed34e",
   "metadata": {},
   "outputs": [
    {
     "data": {
      "text/plain": [
       "['Goat', 'Fish', 'Ant', 'Apple', 'Egg', 'Fish']"
      ]
     },
     "execution_count": 8,
     "metadata": {},
     "output_type": "execute_result"
    }
   ],
   "source": [
    "# list\n",
    "a = ('Goat','Fish','Ant','Apple','Egg','Fish')\n",
    "b = list(a)\n",
    "b"
   ]
  },
  {
   "cell_type": "code",
   "execution_count": 9,
   "id": "7efe23d4",
   "metadata": {},
   "outputs": [
    {
     "data": {
      "text/plain": [
       "('Fish', 'Ant', 'Apple', 'Egg', 'Fish')"
      ]
     },
     "execution_count": 9,
     "metadata": {},
     "output_type": "execute_result"
    }
   ],
   "source": [
    "del b[0]\n",
    "a = tuple(b)\n",
    "a"
   ]
  },
  {
   "cell_type": "code",
   "execution_count": 10,
   "id": "af8e6619",
   "metadata": {},
   "outputs": [
    {
     "data": {
      "text/plain": [
       "('Fish', 'Ant', 'Apple', 'Egg', 'Fish')"
      ]
     },
     "execution_count": 10,
     "metadata": {},
     "output_type": "execute_result"
    }
   ],
   "source": [
    "# tuple to list\n",
    "a = ('Goat','Fish','Ant','Apple','Egg','Fish')\n",
    "b = list(a)\n",
    "del b[0]\n",
    "a = tuple(b)\n",
    "a"
   ]
  },
  {
   "cell_type": "code",
   "execution_count": 11,
   "id": "03e71733",
   "metadata": {},
   "outputs": [
    {
     "data": {
      "text/plain": [
       "['Ant', 'Apple', 'Egg', 'Fish', 'Fish', 'Goat']"
      ]
     },
     "execution_count": 11,
     "metadata": {},
     "output_type": "execute_result"
    }
   ],
   "source": [
    "#too sort use(sorted)\n",
    "a = ('Goat','Fish','Ant','Apple','Egg','Fish')\n",
    "sorted(a)"
   ]
  },
  {
   "cell_type": "code",
   "execution_count": 12,
   "id": "801612ef",
   "metadata": {},
   "outputs": [
    {
     "ename": "TypeError",
     "evalue": "unsupported operand type(s) for +: 'dict' and 'tuple'",
     "output_type": "error",
     "traceback": [
      "\u001b[1;31m---------------------------------------------------------------------------\u001b[0m",
      "\u001b[1;31mTypeError\u001b[0m                                 Traceback (most recent call last)",
      "Cell \u001b[1;32mIn[12], line 5\u001b[0m\n\u001b[0;32m      2\u001b[0m t \u001b[38;5;241m=\u001b[39m {}\n\u001b[0;32m      3\u001b[0m a \u001b[38;5;241m=\u001b[39m ((\u001b[38;5;124m\"\u001b[39m\u001b[38;5;124mRam\u001b[39m\u001b[38;5;124m\"\u001b[39m,\u001b[38;5;241m78\u001b[39m,\u001b[38;5;124m\"\u001b[39m\u001b[38;5;124mKathmandu\u001b[39m\u001b[38;5;124m\"\u001b[39m),\n\u001b[0;32m      4\u001b[0m     (\u001b[38;5;124m\"\u001b[39m\u001b[38;5;124mShyam\u001b[39m\u001b[38;5;124m\"\u001b[39m,\u001b[38;5;241m45\u001b[39m,\u001b[38;5;124m\"\u001b[39m\u001b[38;5;124mBhaktapur\u001b[39m\u001b[38;5;124m\"\u001b[39m))\n\u001b[1;32m----> 5\u001b[0m t \u001b[38;5;241m=\u001b[39m \u001b[43mt\u001b[49m\u001b[38;5;241;43m+\u001b[39;49m\u001b[43ma\u001b[49m \n\u001b[0;32m      6\u001b[0m t\n",
      "\u001b[1;31mTypeError\u001b[0m: unsupported operand type(s) for +: 'dict' and 'tuple'"
     ]
    }
   ],
   "source": [
    "# tuple inside tupple\n",
    "t = {}\n",
    "a = ((\"Ram\",78,\"Kathmandu\"),\n",
    "    (\"Shyam\",45,\"Bhaktapur\"))\n"
   ]
  },
  {
   "cell_type": "code",
   "execution_count": 14,
   "id": "7f2679a9",
   "metadata": {},
   "outputs": [
    {
     "name": "stdout",
     "output_type": "stream",
     "text": [
      "enter the n= 3\n",
      "entre the name= Ram\n",
      "enter the age19\n",
      "enter thr adressThimi\n",
      "entre the name= Sambhav\n",
      "enter the age19\n",
      "enter thr adresshome\n",
      "entre the name= melyssa\n",
      "enter the age18\n",
      "enter thr adresshouse\n"
     ]
    },
    {
     "data": {
      "text/plain": [
       "(('Ram', 19, 'Thimi'), ('Sambhav', 19, 'home'), ('melyssa', 18, 'house'))"
      ]
     },
     "execution_count": 14,
     "metadata": {},
     "output_type": "execute_result"
    }
   ],
   "source": [
    "# tuple inside tuple\n",
    "# tuple inside tuple\n",
    "\n",
    "t=()\n",
    "n=int(input(\"enter the n= \"))\n",
    "for i in range(n):\n",
    "    name=(input(\"entre the name= \"))\n",
    "    age=int(input(\"enter the age\"))\n",
    "    add=input(\"enter thr adress\")\n",
    "    \n",
    "    t=t+((name,age,add),)\n",
    "t"
   ]
  },
  {
   "cell_type": "code",
   "execution_count": null,
   "id": "2da55e37",
   "metadata": {},
   "outputs": [],
   "source": []
  }
 ],
 "metadata": {
  "kernelspec": {
   "display_name": "Python 3 (ipykernel)",
   "language": "python",
   "name": "python3"
  },
  "language_info": {
   "codemirror_mode": {
    "name": "ipython",
    "version": 3
   },
   "file_extension": ".py",
   "mimetype": "text/x-python",
   "name": "python",
   "nbconvert_exporter": "python",
   "pygments_lexer": "ipython3",
   "version": "3.10.9"
  }
 },
 "nbformat": 4,
 "nbformat_minor": 5
}
