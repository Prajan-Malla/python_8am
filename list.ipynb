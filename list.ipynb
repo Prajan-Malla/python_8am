{
 "cells": [
  {
   "cell_type": "code",
   "execution_count": null,
   "id": "1e718ec0",
   "metadata": {},
   "outputs": [],
   "source": [
    "## python collection\n",
    "# list\n",
    "# tuple\n",
    "# dict\n",
    "# set"
   ]
  },
  {
   "cell_type": "code",
   "execution_count": null,
   "id": "a5ee4460",
   "metadata": {},
   "outputs": [],
   "source": [
    "## list\n",
    "# indexing\n",
    "# multiple and duplicate data\n",
    "# drdered\n",
    "# mutable datatype"
   ]
  },
  {
   "cell_type": "code",
   "execution_count": 1,
   "id": "23c6ea36",
   "metadata": {},
   "outputs": [
    {
     "name": "stdout",
     "output_type": "stream",
     "text": [
      "<class 'list'>\n",
      "<class 'list'>\n"
     ]
    }
   ],
   "source": [
    "a =[1,2,3,4,5,6,7,8,9]\n",
    "b = [ \"Apple\",\"Ball\",\"cat\",\"dog\"]\n",
    "print(type(a))\n",
    "print(type(b))"
   ]
  },
  {
   "cell_type": "code",
   "execution_count": 2,
   "id": "429abe68",
   "metadata": {},
   "outputs": [
    {
     "name": "stdout",
     "output_type": "stream",
     "text": [
      "2\n",
      "Apple\n"
     ]
    }
   ],
   "source": [
    "print(a[1])\n",
    "print(b[0])"
   ]
  },
  {
   "cell_type": "code",
   "execution_count": 4,
   "id": "8049c5ac",
   "metadata": {},
   "outputs": [
    {
     "name": "stdout",
     "output_type": "stream",
     "text": [
      "[1, 2, 3, 4, 5]\n",
      "[1, 3, 5]\n"
     ]
    }
   ],
   "source": [
    "print(a[0:5])\n",
    "print(a[0:5:2])"
   ]
  },
  {
   "cell_type": "code",
   "execution_count": 5,
   "id": "28e6ddd0",
   "metadata": {},
   "outputs": [
    {
     "data": {
      "text/plain": [
       "[1, 2, 3, 4, 5, 6, 7, 8, 9]"
      ]
     },
     "execution_count": 5,
     "metadata": {},
     "output_type": "execute_result"
    }
   ],
   "source": [
    "a =[1,2,3,4,5,6,7,8,9]\n",
    "a"
   ]
  },
  {
   "cell_type": "code",
   "execution_count": 6,
   "id": "587802e2",
   "metadata": {},
   "outputs": [
    {
     "name": "stdout",
     "output_type": "stream",
     "text": [
      "[1, 2, 3, 4, 5, 6, 7, 8]\n"
     ]
    }
   ],
   "source": [
    "# = *\n",
    "a = [1,2,3,4]\n",
    "b = [5,6,7,8]\n",
    "c = a+b\n",
    "print(c)"
   ]
  },
  {
   "cell_type": "code",
   "execution_count": 7,
   "id": "782d269e",
   "metadata": {},
   "outputs": [
    {
     "name": "stdout",
     "output_type": "stream",
     "text": [
      "[1, 2, 3, 4, 1, 2, 3, 4]\n"
     ]
    }
   ],
   "source": [
    "a = [1,2,3,4]\n",
    "print(a*2)"
   ]
  },
  {
   "cell_type": "code",
   "execution_count": 58,
   "id": "62938f6a",
   "metadata": {},
   "outputs": [
    {
     "name": "stdout",
     "output_type": "stream",
     "text": [
      "Apple\n",
      "Ball\n",
      "cat\n",
      "dog\n"
     ]
    }
   ],
   "source": [
    "b = [ \"Apple\",\"Ball\",\"cat\",\"dog\"]\n",
    "for i in b:\n",
    "    print(i)"
   ]
  },
  {
   "cell_type": "code",
   "execution_count": 9,
   "id": "342a5f80",
   "metadata": {},
   "outputs": [
    {
     "name": "stdout",
     "output_type": "stream",
     "text": [
      "Enter n = 3\n",
      "Enter x = 5\n",
      "[5]\n",
      "Enter x = 7\n",
      "[5, 7]\n",
      "Enter x = 9\n",
      "[5, 7, 9]\n"
     ]
    }
   ],
   "source": [
    "l = []\n",
    "n = int(input(\"Enter n = \"))\n",
    "for i in range(n):\n",
    "    x = int(input(\"Enter x = \"))\n",
    "    l = l+[x]\n",
    "    print(l)\n",
    "    "
   ]
  },
  {
   "cell_type": "code",
   "execution_count": 12,
   "id": "42aad962",
   "metadata": {},
   "outputs": [
    {
     "name": "stdout",
     "output_type": "stream",
     "text": [
      "Max value =  9\n",
      "Min value =  5\n",
      "sum =  21\n",
      "[5, 7, 9]\n"
     ]
    }
   ],
   "source": [
    "print(\"Max value = \",max(l))\n",
    "print(\"Min value = \",min(l))\n",
    "print(\"sum = \",sum(l))\n",
    "l.sort()\n",
    "print(l)\n"
   ]
  },
  {
   "cell_type": "code",
   "execution_count": 13,
   "id": "58efe6d9",
   "metadata": {},
   "outputs": [
    {
     "name": "stdout",
     "output_type": "stream",
     "text": [
      "Max value =  9\n",
      "Min value =  5\n",
      "sum =  21\n",
      "[9, 7, 5]\n"
     ]
    }
   ],
   "source": [
    "print(\"Max value = \",max(l))\n",
    "print(\"Min value = \",min(l))\n",
    "print(\"sum = \",sum(l))\n",
    "l.reverse()\n",
    "print(l)"
   ]
  },
  {
   "cell_type": "code",
   "execution_count": 14,
   "id": "ef0fbaeb",
   "metadata": {},
   "outputs": [
    {
     "name": "stdout",
     "output_type": "stream",
     "text": [
      "['Apple', 'Ball', 'cat', 'dog']\n"
     ]
    }
   ],
   "source": [
    "b = [ \"Apple\",\"Ball\",\"cat\",\"dog\"]\n",
    "b.sort()\n",
    "print(b)"
   ]
  },
  {
   "cell_type": "code",
   "execution_count": 15,
   "id": "bbe35e67",
   "metadata": {},
   "outputs": [],
   "source": [
    "# # insert data\n",
    "# append() insert() extend()\n",
    "\n",
    "# delete data\n",
    "# del remove() pop()\n"
   ]
  },
  {
   "cell_type": "code",
   "execution_count": 23,
   "id": "37b1e3a1",
   "metadata": {},
   "outputs": [
    {
     "name": "stdout",
     "output_type": "stream",
     "text": [
      "Enter n = 2\n",
      "Enter x = apple\n",
      "Enter x = ball\n",
      "['apple', 'ball']\n"
     ]
    }
   ],
   "source": [
    "l = []\n",
    "n = int(input(\"Enter n = \"))\n",
    "for i in range(n):\n",
    "    x = (input(\"Enter x = \"))\n",
    "    l.append(x)\n",
    "print(l)"
   ]
  },
  {
   "cell_type": "code",
   "execution_count": 21,
   "id": "9c492082",
   "metadata": {},
   "outputs": [
    {
     "data": {
      "text/plain": [
       "['Ball', 'Apple', 'cat', 'dog', 'fish', 'ant', 'egg']"
      ]
     },
     "execution_count": 21,
     "metadata": {},
     "output_type": "execute_result"
    }
   ],
   "source": [
    "a = [ \"Ball\",\"cat\",\"dog\",\"fish\",\"ant\",\"egg\"]\n",
    "a.insert(1,\"Apple\")\n",
    "a"
   ]
  },
  {
   "cell_type": "code",
   "execution_count": 24,
   "id": "8dd6f94d",
   "metadata": {},
   "outputs": [
    {
     "data": {
      "text/plain": [
       "['Ball', 'cat', 'dog', 'fish', 'Apple', 'ant', 'egg']"
      ]
     },
     "execution_count": 24,
     "metadata": {},
     "output_type": "execute_result"
    }
   ],
   "source": [
    "a = [ \"Ball\",\"cat\",\"dog\",\"fish\",\"ant\",\"egg\"]\n",
    "a.insert(4,\"Apple\")\n",
    "a"
   ]
  },
  {
   "cell_type": "code",
   "execution_count": 25,
   "id": "1312a93b",
   "metadata": {},
   "outputs": [
    {
     "data": {
      "text/plain": [
       "[1, 2, 3, 4, 5, 6, 5, 6, 7, 8, 9]"
      ]
     },
     "execution_count": 25,
     "metadata": {},
     "output_type": "execute_result"
    }
   ],
   "source": [
    "a = [1,2,3,4,5,6]\n",
    "b = [5,6,7,8,9]\n",
    "a.extend(b)\n",
    "a"
   ]
  },
  {
   "cell_type": "code",
   "execution_count": 26,
   "id": "a02ad6e7",
   "metadata": {},
   "outputs": [
    {
     "name": "stdout",
     "output_type": "stream",
     "text": [
      "['Ball', 'dog', 'fish', 'ant', 'egg']\n"
     ]
    }
   ],
   "source": [
    "# delete data\n",
    "# del remove() pop()\n",
    "a = [ \"Ball\",\"cat\",\"dog\",\"fish\",\"ant\",\"egg\"]\n",
    "del a[1]\n",
    "print(a)"
   ]
  },
  {
   "cell_type": "code",
   "execution_count": 27,
   "id": "a0bee5f7",
   "metadata": {},
   "outputs": [
    {
     "name": "stdout",
     "output_type": "stream",
     "text": [
      "['ant', 'egg']\n"
     ]
    }
   ],
   "source": [
    "# delete()\n",
    "del a[0:3]\n",
    "print(a)"
   ]
  },
  {
   "cell_type": "code",
   "execution_count": 30,
   "id": "3d12044e",
   "metadata": {},
   "outputs": [
    {
     "name": "stdout",
     "output_type": "stream",
     "text": [
      "['cat', 'dog', 'fish', 'ant', 'egg']\n"
     ]
    }
   ],
   "source": [
    "# remove()\n",
    "a = [ \"Ball\",\"cat\",\"dog\",\"fish\",\"ant\",\"egg\"]\n",
    "a.remove('Ball')\n",
    "print(a)"
   ]
  },
  {
   "cell_type": "code",
   "execution_count": 31,
   "id": "9c6ee7ff",
   "metadata": {},
   "outputs": [
    {
     "name": "stdout",
     "output_type": "stream",
     "text": [
      "['cat', 'dog', 'fish', 'ant', 'egg', 'Ball']\n"
     ]
    }
   ],
   "source": [
    "# multiple same\n",
    "a = [ \"Ball\",\"cat\",\"dog\",\"fish\",\"ant\",\"egg\",\"Ball\"]\n",
    "a.remove('Ball')\n",
    "print(a)"
   ]
  },
  {
   "cell_type": "code",
   "execution_count": 32,
   "id": "1412abd4",
   "metadata": {},
   "outputs": [
    {
     "data": {
      "text/plain": [
       "['cat', 'dog', 'fish', 'ant', 'egg']"
      ]
     },
     "execution_count": 32,
     "metadata": {},
     "output_type": "execute_result"
    }
   ],
   "source": [
    "# multiple same\n",
    "a = [ \"Ball\",\"cat\",\"dog\",\"fish\",\"ant\",\"egg\",\"Ball\"]\n",
    "c = a.count('Ball')\n",
    "for i in range(c):\n",
    "    a.remove('Ball')\n",
    "a    "
   ]
  },
  {
   "cell_type": "code",
   "execution_count": 33,
   "id": "3e5bfb54",
   "metadata": {},
   "outputs": [
    {
     "name": "stdout",
     "output_type": "stream",
     "text": [
      "fish\n"
     ]
    }
   ],
   "source": [
    "# moving fish in data\n",
    "a = [ \"Ball\",\"cat\",\"dog\",\"fish\",\"ant\",\"egg\",\"Ball\"]\n",
    "data = a.pop(3)\n",
    "print(data)"
   ]
  },
  {
   "cell_type": "code",
   "execution_count": 34,
   "id": "69d471ba",
   "metadata": {},
   "outputs": [
    {
     "name": "stdout",
     "output_type": "stream",
     "text": [
      "fish\n",
      "['Ball', 'cat', 'dog', 'ant', 'egg', 'Ball']\n"
     ]
    }
   ],
   "source": [
    "#print data and a\n",
    "a = [ \"Ball\",\"cat\",\"dog\",\"fish\",\"ant\",\"egg\",\"Ball\"]\n",
    "data = a.pop(3)\n",
    "print(data)\n",
    "print(a)"
   ]
  },
  {
   "cell_type": "code",
   "execution_count": 36,
   "id": "fd3059a1",
   "metadata": {},
   "outputs": [
    {
     "data": {
      "text/plain": [
       "['ball', 'cat', 'dog', 'fish', 'ant', 'egg', 'Ball']"
      ]
     },
     "execution_count": 36,
     "metadata": {},
     "output_type": "execute_result"
    }
   ],
   "source": [
    "#update\n",
    "a = [ \"Ball\",\"cat\",\"dog\",\"fish\",\"ant\",\"egg\",\"Ball\"]\n",
    "a[0] = 'ball'\n",
    "a"
   ]
  },
  {
   "cell_type": "code",
   "execution_count": 38,
   "id": "82c82995",
   "metadata": {},
   "outputs": [
    {
     "data": {
      "text/plain": [
       "4"
      ]
     },
     "execution_count": 38,
     "metadata": {},
     "output_type": "execute_result"
    }
   ],
   "source": [
    "#index  \n",
    "a = [ \"Ball\",\"cat\",\"dog\",\"fish\",\"ant\",\"egg\",\"Ball\"]\n",
    "a.index('ant')"
   ]
  },
  {
   "cell_type": "code",
   "execution_count": 39,
   "id": "0cc1ed4a",
   "metadata": {},
   "outputs": [
    {
     "name": "stdout",
     "output_type": "stream",
     "text": [
      "Ball\n",
      "cat\n",
      "dog\n",
      "fish\n",
      "ant\n",
      "egg\n",
      "Ball\n"
     ]
    }
   ],
   "source": [
    "#index  (find multiple index)\n",
    "a = [ \"Ball\",\"cat\",\"dog\",\"fish\",\"ant\",\"egg\",\"Ball\"]\n",
    "l = len(a)\n",
    "for i in range(l):\n",
    "    print(a[i])"
   ]
  },
  {
   "cell_type": "code",
   "execution_count": 43,
   "id": "a8c8184b",
   "metadata": {},
   "outputs": [
    {
     "name": "stdout",
     "output_type": "stream",
     "text": [
      "0\n",
      "6\n"
     ]
    }
   ],
   "source": [
    "a = [ \"Ball\",\"cat\",\"dog\",\"fish\",\"ant\",\"egg\",\"Ball\"]\n",
    "l = len(a)\n",
    "for i in range(l):\n",
    "    if \"Ball\" == a[i]:\n",
    "    print(i)"
   ]
  },
  {
   "cell_type": "code",
   "execution_count": 50,
   "id": "fffec8c7",
   "metadata": {},
   "outputs": [
    {
     "name": "stdout",
     "output_type": "stream",
     "text": [
      "Yes\n",
      "1\n"
     ]
    }
   ],
   "source": [
    "#search\n",
    "a = [ \"Ball\",\"cat\",\"dog\",\"fish\",\"ant\",\"egg\",\"Ball\"]\n",
    "if \"fish\" in a:\n",
    "    print(\"Yes\")\n",
    "    print(a.count(\"fish\"))"
   ]
  },
  {
   "cell_type": "code",
   "execution_count": 52,
   "id": "1035b585",
   "metadata": {},
   "outputs": [
    {
     "name": "stdout",
     "output_type": "stream",
     "text": [
      "enter value = Ball\n",
      "Yes ther are/is 2 no of Ball\n"
     ]
    }
   ],
   "source": [
    "c = 0\n",
    "a = [ \"Ball\",\"cat\",\"dog\",\"fish\",\"ant\",\"egg\",\"Ball\"]\n",
    "value = input(\"enter value = \")\n",
    "l = len(a)\n",
    "for i in range(l):\n",
    "    if \"Ball\".lower() == a[i].lower():\n",
    "     c = c+1\n",
    "if c>0:\n",
    "    print(f\"Yes ther are/is {c} no of {value}\")"
   ]
  },
  {
   "cell_type": "code",
   "execution_count": 53,
   "id": "45f59187",
   "metadata": {},
   "outputs": [
    {
     "name": "stdout",
     "output_type": "stream",
     "text": [
      "[[1, 2, 3], [4, 5, 6], [7, 8, 9]]\n",
      "3\n"
     ]
    }
   ],
   "source": [
    "# list inside list\n",
    "a = [[1,2,3],\n",
    "    [4,5,6],\n",
    "    [7,8,9]]\n",
    "print(a)\n",
    "print(len(a))"
   ]
  },
  {
   "cell_type": "code",
   "execution_count": 54,
   "id": "6524338a",
   "metadata": {},
   "outputs": [
    {
     "name": "stdout",
     "output_type": "stream",
     "text": [
      "[1, 2, 3]\n",
      "[4, 5, 6]\n",
      "[7, 8, 9]\n"
     ]
    }
   ],
   "source": [
    "print(a[0])\n",
    "print(a[1])\n",
    "print(a[2])"
   ]
  },
  {
   "cell_type": "code",
   "execution_count": 55,
   "id": "34dc6c60",
   "metadata": {},
   "outputs": [
    {
     "name": "stdout",
     "output_type": "stream",
     "text": [
      "1\n"
     ]
    }
   ],
   "source": [
    "# to print the num inside of [1,2,3]\n",
    "a = [[1,2,3],\n",
    "    [4,5,6],\n",
    "    [7,8,9]]\n",
    "print(a[0][0])  #1st [0] represent row and 2nd [0] represnt column"
   ]
  },
  {
   "cell_type": "code",
   "execution_count": 56,
   "id": "4ec69b33",
   "metadata": {},
   "outputs": [
    {
     "name": "stdout",
     "output_type": "stream",
     "text": [
      "6\n"
     ]
    }
   ],
   "source": [
    "a = [[1,2,3],\n",
    "    [4,5,6],\n",
    "    [7,8,9]]\n",
    "print(a[1][2])"
   ]
  },
  {
   "cell_type": "code",
   "execution_count": 57,
   "id": "b13cd2dd",
   "metadata": {},
   "outputs": [
    {
     "name": "stdout",
     "output_type": "stream",
     "text": [
      "[['Ram', 45, 'Kathmandu'], ['shyam', 34, 'Bhaktapur'], ['hari', 67, 'Lalitpur']]\n"
     ]
    }
   ],
   "source": [
    "a = [['Ram',45,\"Kathmandu\"],\n",
    "    ['shyam',34,\"Bhaktapur\"],\n",
    "    ['hari',67,\"Lalitpur\"]]\n",
    "print(a)"
   ]
  },
  {
   "cell_type": "code",
   "execution_count": null,
   "id": "4232c8cd",
   "metadata": {},
   "outputs": [],
   "source": [
    "l = []\n",
    "n = int(input(\"enter n = \"))\n",
    "for i in range(n):\n",
    "    a = [['Ram',45,\"Kathmandu\"],\n",
    "    ['shyam',34,\"Bhaktapur\"],\n",
    "    ['hari',67,\"Lalitpur\"]]\n",
    "    \n",
    "    \n",
    "print(a)"
   ]
  },
  {
   "cell_type": "code",
   "execution_count": null,
   "id": "863da394",
   "metadata": {},
   "outputs": [],
   "source": [
    "#WAP to create a matrix\n",
    "r =?\n",
    "c =?\n",
    "x =?\n",
    "# WAp to"
   ]
  }
 ],
 "metadata": {
  "kernelspec": {
   "display_name": "Python 3 (ipykernel)",
   "language": "python",
   "name": "python3"
  },
  "language_info": {
   "codemirror_mode": {
    "name": "ipython",
    "version": 3
   },
   "file_extension": ".py",
   "mimetype": "text/x-python",
   "name": "python",
   "nbconvert_exporter": "python",
   "pygments_lexer": "ipython3",
   "version": "3.10.9"
  }
 },
 "nbformat": 4,
 "nbformat_minor": 5
}
