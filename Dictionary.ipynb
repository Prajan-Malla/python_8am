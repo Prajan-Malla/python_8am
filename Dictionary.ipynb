{
 "cells": [
  {
   "cell_type": "code",
   "execution_count": 1,
   "id": "d347e099",
   "metadata": {},
   "outputs": [],
   "source": [
    "# #Dictionary\n",
    "# Indexing\n",
    "# Multiple and duplicate data\n",
    "# Ordered\n",
    "# Mutable"
   ]
  },
  {
   "cell_type": "code",
   "execution_count": 2,
   "id": "d03dcfb1",
   "metadata": {},
   "outputs": [],
   "source": [
    "# d = {<key>:<value>,<key>:<value>,<key>:<value>,<key>:<value>}\n",
    "# d"
   ]
  },
  {
   "cell_type": "code",
   "execution_count": 3,
   "id": "c69fd2e6",
   "metadata": {},
   "outputs": [
    {
     "name": "stdout",
     "output_type": "stream",
     "text": [
      "{'a': 'Apple', 'b': 'Ball', 'c': 'Cat'}\n",
      "3\n"
     ]
    }
   ],
   "source": [
    "d = {'a':'Apple','b':'Ball','c':'Cat'}\n",
    "print(d)\n",
    "print(len(d))"
   ]
  },
  {
   "cell_type": "code",
   "execution_count": 4,
   "id": "5ab24222",
   "metadata": {},
   "outputs": [
    {
     "name": "stdout",
     "output_type": "stream",
     "text": [
      "Apple\n",
      "Ball\n"
     ]
    }
   ],
   "source": [
    "print(d['a'])\n",
    "print(d['b'])"
   ]
  },
  {
   "cell_type": "code",
   "execution_count": 5,
   "id": "6e5fbf0f",
   "metadata": {},
   "outputs": [
    {
     "data": {
      "text/plain": [
       "{'a': 'Ant', 'b': 'Ball', 'c': 'Cat'}"
      ]
     },
     "execution_count": 5,
     "metadata": {},
     "output_type": "execute_result"
    }
   ],
   "source": [
    "# duplicate(a= apple,and)\n",
    "d = {'a':'Apple','b':'Ball','c':'Cat','a':'Ant'}\n",
    "d"
   ]
  },
  {
   "cell_type": "code",
   "execution_count": 6,
   "id": "adbfe066",
   "metadata": {},
   "outputs": [
    {
     "data": {
      "text/plain": [
       "{'a': 'Apple', 'b': 'Ball', 'c': 'Cat'}"
      ]
     },
     "execution_count": 6,
     "metadata": {},
     "output_type": "execute_result"
    }
   ],
   "source": [
    "d = {}\n",
    "d['a'] = \"Apple\"\n",
    "d['b'] = \"Ball\"\n",
    "d['c'] = \"Cat\"\n",
    "d\n"
   ]
  },
  {
   "cell_type": "code",
   "execution_count": 7,
   "id": "68c3c2b3",
   "metadata": {},
   "outputs": [
    {
     "name": "stdout",
     "output_type": "stream",
     "text": [
      "a\n",
      "b\n",
      "c\n"
     ]
    }
   ],
   "source": [
    "for i in d:\n",
    "    print(i)"
   ]
  },
  {
   "cell_type": "code",
   "execution_count": 9,
   "id": "fc4f0376",
   "metadata": {},
   "outputs": [
    {
     "name": "stdout",
     "output_type": "stream",
     "text": [
      "Apple\n",
      "Ball\n",
      "Cat\n"
     ]
    }
   ],
   "source": [
    "for i in d.values():\n",
    "    print(i)"
   ]
  },
  {
   "cell_type": "code",
   "execution_count": 10,
   "id": "e41997e4",
   "metadata": {},
   "outputs": [
    {
     "name": "stdout",
     "output_type": "stream",
     "text": [
      "('a', 'Apple')\n",
      "('b', 'Ball')\n",
      "('c', 'Cat')\n"
     ]
    }
   ],
   "source": [
    "for i in d.items():\n",
    "    print(i)"
   ]
  },
  {
   "cell_type": "code",
   "execution_count": 11,
   "id": "fca99698",
   "metadata": {},
   "outputs": [
    {
     "data": {
      "text/plain": [
       "[('a', 'Apple'), ('b', 'Ball'), ('c', 'Cat')]"
      ]
     },
     "execution_count": 11,
     "metadata": {},
     "output_type": "execute_result"
    }
   ],
   "source": [
    "l = []\n",
    "for i in d.items():\n",
    "    l.append(i)\n",
    "l    "
   ]
  },
  {
   "cell_type": "code",
   "execution_count": 12,
   "id": "18775872",
   "metadata": {},
   "outputs": [
    {
     "data": {
      "text/plain": [
       "{'a': 'Apple', 'b': 'Ball', 'c': 'Cat'}"
      ]
     },
     "execution_count": 12,
     "metadata": {},
     "output_type": "execute_result"
    }
   ],
   "source": [
    "dict(l)"
   ]
  },
  {
   "cell_type": "code",
   "execution_count": 17,
   "id": "72674416",
   "metadata": {},
   "outputs": [
    {
     "name": "stdout",
     "output_type": "stream",
     "text": [
      "Enter n = 3\n",
      "Enter name = Ram\n",
      "Enter phone = 9876543210\n",
      "Enter name = sambhav\n",
      "Enter phone = 9807654321\n",
      "Enter name = Prajan\n",
      "Enter phone = 9867540321\n",
      "{'Ram': '9876543210', 'sambhav': '9807654321', 'Prajan': '9867540321'}\n"
     ]
    }
   ],
   "source": [
    "# WAP to create a dict taking values from users\n",
    "d = {}\n",
    "n = int (input(\"Enter n = \"))\n",
    "for i in range(n):\n",
    "    name = input(\"Enter name = \")\n",
    "    phone = input(\"Enter phone = \")\n",
    "    d[name] = phone\n",
    "print(d)"
   ]
  },
  {
   "cell_type": "code",
   "execution_count": 18,
   "id": "f4030ae1",
   "metadata": {},
   "outputs": [],
   "source": [
    "# no + * (operqtors)"
   ]
  },
  {
   "cell_type": "code",
   "execution_count": 19,
   "id": "4916762b",
   "metadata": {},
   "outputs": [
    {
     "data": {
      "text/plain": [
       "{'Ram': '9876543210', 'sambhav': '9807654321', 'Prajan': '9867540321'}"
      ]
     },
     "execution_count": 19,
     "metadata": {},
     "output_type": "execute_result"
    }
   ],
   "source": [
    "a = {'Ram': '9876543210', 'sambhav': '9807654321'}\n",
    "b = {'Prajan': '9867540321'}\n",
    "a.update(b)\n",
    "a"
   ]
  },
  {
   "cell_type": "code",
   "execution_count": 20,
   "id": "37337e7a",
   "metadata": {},
   "outputs": [
    {
     "data": {
      "text/plain": [
       "{'Ram': 9123456780, 'sambhav': '9807654321', 'Prajan': '9867540321'}"
      ]
     },
     "execution_count": 20,
     "metadata": {},
     "output_type": "execute_result"
    }
   ],
   "source": [
    "#update(phn num change)\n",
    "a = {'Ram': '9876543210', 'sambhav': '9807654321', 'Prajan': '9867540321'}\n",
    "d['Ram'] = 9123456780\n",
    "d"
   ]
  },
  {
   "cell_type": "code",
   "execution_count": 21,
   "id": "9591801d",
   "metadata": {},
   "outputs": [
    {
     "data": {
      "text/plain": [
       "{'Ram': 9123456780,\n",
       " 'sambhav': '9807654321',\n",
       " 'Prajan': '9867540321',\n",
       " 'Melyssa': 9123456780}"
      ]
     },
     "execution_count": 21,
     "metadata": {},
     "output_type": "execute_result"
    }
   ],
   "source": [
    "# Add\n",
    "a = {'Ram': '9876543210', 'sambhav': '9807654321', 'Prajan': '9867540321'}\n",
    "d['Melyssa'] = 9123456780\n",
    "d"
   ]
  },
  {
   "cell_type": "code",
   "execution_count": 13,
   "id": "f3cc279f",
   "metadata": {},
   "outputs": [
    {
     "data": {
      "text/plain": [
       "{'sambhav': '9807654321', 'Prajan': '9867540321'}"
      ]
     },
     "execution_count": 13,
     "metadata": {},
     "output_type": "execute_result"
    }
   ],
   "source": [
    "#delete(del or pop)\n",
    "a = {'Ram': '9876543210', 'sambhav': '9807654321', 'Prajan': '9867540321'}\n",
    "del a['Ram'] \n",
    "a"
   ]
  },
  {
   "cell_type": "code",
   "execution_count": 12,
   "id": "47126d7c",
   "metadata": {},
   "outputs": [
    {
     "name": "stdout",
     "output_type": "stream",
     "text": [
      "{'Shyam': [9087654321, 9708654321], 'Hari': [9608754321, 9508764321], 'Sameer': [9408765321, 9308765421]}\n"
     ]
    }
   ],
   "source": [
    "#list inside dictionary\n",
    "a = {'Shyam':[9087654321,9708654321],\n",
    "     'Hari':[9608754321,9508764321],\n",
    "     'Sameer':[9408765321,9308765421]}\n",
    "print(a)"
   ]
  },
  {
   "cell_type": "code",
   "execution_count": 21,
   "id": "9900ca77",
   "metadata": {},
   "outputs": [
    {
     "name": "stdout",
     "output_type": "stream",
     "text": [
      "enter the n2\n",
      "enter the nameRam\n",
      "enter the ntc no9999999999\n",
      "enter the ncell no8888888888\n",
      "enter the nameShyam\n",
      "enter the ntc no7777777777\n",
      "enter the ncell no6666666666\n"
     ]
    },
    {
     "data": {
      "text/plain": [
       "{'Ram': [9999999999, 8888888888], 'Shyam': [7777777777, 6666666666]}"
      ]
     },
     "execution_count": 21,
     "metadata": {},
     "output_type": "execute_result"
    }
   ],
   "source": [
    "d={}\n",
    "n=int(input(\"enter the n\"))\n",
    "for i in range(n):\n",
    "    name=input(\"enter the name\")\n",
    "    ntc_no=int(input(\"enter the ntc no\"))\n",
    "    ncell_no=int(input(\"enter the ncell no\"))\n",
    "    d[name]=[ntc_no,ncell_no]  \n",
    "d\n",
    "    "
   ]
  },
  {
   "cell_type": "code",
   "execution_count": 22,
   "id": "e81f1786",
   "metadata": {},
   "outputs": [
    {
     "name": "stdout",
     "output_type": "stream",
     "text": [
      "[9999999999, 8888888888]\n",
      "NTC no of Ram 9999999999\n",
      "NCELL no of Ram 9999999999\n"
     ]
    }
   ],
   "source": [
    "#Read\n",
    "print(d['Ram'])\n",
    "print(\"NTC no of Ram\",d['Ram'][0])\n",
    "print(\"NCELL no of Ram\",d['Ram'][0])"
   ]
  },
  {
   "cell_type": "code",
   "execution_count": 23,
   "id": "f7b056e5",
   "metadata": {},
   "outputs": [
    {
     "data": {
      "text/plain": [
       "{'Ram': [8888888888], 'Shyam': [7777777777, 6666666666]}"
      ]
     },
     "execution_count": 23,
     "metadata": {},
     "output_type": "execute_result"
    }
   ],
   "source": [
    "#delete\n",
    "del d['Ram'][0]\n",
    "d"
   ]
  },
  {
   "cell_type": "code",
   "execution_count": 26,
   "id": "a7dd1b95",
   "metadata": {},
   "outputs": [
    {
     "data": {
      "text/plain": [
       "[{'name': 'Ram', 'age': 34, 'add': 'Kathmandu'},\n",
       " {'name': 'Shyam', 'age': 44, 'add': 'Bhaktapur'},\n",
       " {'name': 'Hari', 'age': 24, 'add': 'Lalitpur'}]"
      ]
     },
     "execution_count": 26,
     "metadata": {},
     "output_type": "execute_result"
    }
   ],
   "source": [
    "# dict inside list\n",
    "d = [{'name':'Ram','age':34,'add':'Kathmandu'},\n",
    "     {'name':'Shyam','age':44,'add':'Bhaktapur'},\n",
    "     {'name':'Hari','age':24,'add':'Lalitpur'}]\n",
    "d"
   ]
  },
  {
   "cell_type": "code",
   "execution_count": 32,
   "id": "da4b68f6",
   "metadata": {},
   "outputs": [
    {
     "name": "stdout",
     "output_type": "stream",
     "text": [
      "Enter n = 2\n",
      "Enter name = Ram\n",
      "Enter age = 78\n",
      "Enter add = Kathmandu\n",
      "Enter name = Shyam \n",
      "Enter age = 89\n",
      "Enter add = Bhaktapur\n",
      "[{'name': 'Ram', 'age': '78', 'add': 'Kathmandu'}, {'name': 'Shyam ', 'age': '89', 'add': 'Bhaktapur'}]\n"
     ]
    }
   ],
   "source": [
    "l = []\n",
    "n = int(input(\"Enter n = \"))\n",
    "for i in range(n):\n",
    "    name = input(\"Enter name = \")\n",
    "    age = input(\"Enter age = \")\n",
    "    add = input(\"Enter add = \")\n",
    "    d = {'name':name,'age':age,'add':add}\n",
    "    l.append(d)\n",
    "print(l)"
   ]
  },
  {
   "cell_type": "code",
   "execution_count": 34,
   "id": "525b044a",
   "metadata": {},
   "outputs": [
    {
     "name": "stdout",
     "output_type": "stream",
     "text": [
      "{'name': 'Ram', 'age': '78', 'add': 'Kathmandu'}\n"
     ]
    }
   ],
   "source": [
    "#read\n",
    "print(l[0])"
   ]
  },
  {
   "cell_type": "code",
   "execution_count": 35,
   "id": "0a4b4e72",
   "metadata": {},
   "outputs": [
    {
     "data": {
      "text/plain": [
       "[{'name': 'Rama', 'age': '78', 'add': 'Kathmandu'},\n",
       " {'name': 'Shyam ', 'age': '89', 'add': 'Bhaktapur'}]"
      ]
     },
     "execution_count": 35,
     "metadata": {},
     "output_type": "execute_result"
    }
   ],
   "source": [
    "#update\n",
    "l[0]['name'] = 'Rama'\n",
    "l"
   ]
  },
  {
   "cell_type": "code",
   "execution_count": 36,
   "id": "b96ac619",
   "metadata": {},
   "outputs": [
    {
     "data": {
      "text/plain": [
       "[{'name': 'Rama', 'age': '78'},\n",
       " {'name': 'Shyam ', 'age': '89', 'add': 'Bhaktapur'}]"
      ]
     },
     "execution_count": 36,
     "metadata": {},
     "output_type": "execute_result"
    }
   ],
   "source": [
    "#delete\n",
    "del l[0]['add']\n",
    "l"
   ]
  },
  {
   "cell_type": "code",
   "execution_count": 40,
   "id": "fe5610c3",
   "metadata": {},
   "outputs": [
    {
     "data": {
      "text/plain": [
       "{1: {'name': 'Rama', 'age': '78', 'add': 'Kathmandu'},\n",
       " 2: {'name': 'Shyam ', 'age': '89', 'add': 'Bhaktapur'}}"
      ]
     },
     "execution_count": 40,
     "metadata": {},
     "output_type": "execute_result"
    }
   ],
   "source": [
    "#dict inside dict\n",
    "d = {1:{'name': 'Rama', 'age': '78', 'add': 'Kathmandu'},\n",
    "     2:{'name': 'Shyam ', 'age': '89', 'add': 'Bhaktapur'}}\n",
    "d"
   ]
  },
  {
   "cell_type": "code",
   "execution_count": null,
   "id": "3f9ac52e",
   "metadata": {},
   "outputs": [],
   "source": []
  }
 ],
 "metadata": {
  "kernelspec": {
   "display_name": "Python 3 (ipykernel)",
   "language": "python",
   "name": "python3"
  },
  "language_info": {
   "codemirror_mode": {
    "name": "ipython",
    "version": 3
   },
   "file_extension": ".py",
   "mimetype": "text/x-python",
   "name": "python",
   "nbconvert_exporter": "python",
   "pygments_lexer": "ipython3",
   "version": "3.10.9"
  }
 },
 "nbformat": 4,
 "nbformat_minor": 5
}
