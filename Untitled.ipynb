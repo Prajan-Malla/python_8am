{
 "cells": [
  {
   "cell_type": "code",
   "execution_count": 1,
   "id": "8e8f4e5f",
   "metadata": {},
   "outputs": [],
   "source": [
    "# try:\n",
    "#     <operation>\n",
    "# except:\n",
    "#     <operation>"
   ]
  },
  {
   "cell_type": "code",
   "execution_count": 2,
   "id": "0ad90619",
   "metadata": {},
   "outputs": [
    {
     "name": "stdout",
     "output_type": "stream",
     "text": [
      "enter age = ten\n"
     ]
    },
    {
     "ename": "ValueError",
     "evalue": "invalid literal for int() with base 10: 'ten'",
     "output_type": "error",
     "traceback": [
      "\u001b[1;31m---------------------------------------------------------------------------\u001b[0m",
      "\u001b[1;31mValueError\u001b[0m                                Traceback (most recent call last)",
      "Cell \u001b[1;32mIn[2], line 1\u001b[0m\n\u001b[1;32m----> 1\u001b[0m age \u001b[38;5;241m=\u001b[39m \u001b[38;5;28;43mint\u001b[39;49m\u001b[43m(\u001b[49m\u001b[38;5;28;43minput\u001b[39;49m\u001b[43m(\u001b[49m\u001b[38;5;124;43m\"\u001b[39;49m\u001b[38;5;124;43menter age = \u001b[39;49m\u001b[38;5;124;43m\"\u001b[39;49m\u001b[43m)\u001b[49m\u001b[43m)\u001b[49m\n",
      "\u001b[1;31mValueError\u001b[0m: invalid literal for int() with base 10: 'ten'"
     ]
    }
   ],
   "source": [
    "age = int(input(\"enter age = \"))"
   ]
  },
  {
   "cell_type": "code",
   "execution_count": 3,
   "id": "11889636",
   "metadata": {},
   "outputs": [
    {
     "name": "stdout",
     "output_type": "stream",
     "text": [
      "enter age = ten\n",
      "age should be in int\n"
     ]
    }
   ],
   "source": [
    "try:\n",
    "    age = int(input(\"enter age = \"))\n",
    "except:\n",
    "    print(\"age should be in int\")"
   ]
  },
  {
   "cell_type": "code",
   "execution_count": 4,
   "id": "61910366",
   "metadata": {},
   "outputs": [
    {
     "name": "stdout",
     "output_type": "stream",
     "text": [
      "enter a = effdssedf\n",
      "Some error occured. Please try again\n"
     ]
    }
   ],
   "source": [
    "try:\n",
    "    a = int(input(\"enter a = \"))\n",
    "    b = int(input(\"enter b = \"))\n",
    "    c = a/b\n",
    "except:\n",
    "    print(\"Some error occured. Please try again\")\n",
    "    "
   ]
  },
  {
   "cell_type": "code",
   "execution_count": 5,
   "id": "23ac1e58",
   "metadata": {},
   "outputs": [
    {
     "name": "stdout",
     "output_type": "stream",
     "text": [
      "enter a = 10\n",
      "enter b = 0\n",
      "Some error occured. Please try again\n"
     ]
    }
   ],
   "source": [
    "try:\n",
    "    a = int(input(\"enter a = \"))\n",
    "    b = int(input(\"enter b = \"))\n",
    "    c = a/b\n",
    "except ValueError:\n",
    "    print(\"Value of a should be in int. Please try again\")\n",
    "except ZeroDivisionError:\n",
    "    print(\"Value of b should be zero. Please try again\") \n",
    "    "
   ]
  },
  {
   "cell_type": "code",
   "execution_count": 6,
   "id": "a98f73f7",
   "metadata": {},
   "outputs": [
    {
     "name": "stdout",
     "output_type": "stream",
     "text": [
      "the file is already created\n"
     ]
    }
   ],
   "source": [
    "try:\n",
    "    file = open('data.txt','x')\n",
    "    file.close()\n",
    "except FileExistsError:\n",
    "    print(\"the file is already created\")"
   ]
  },
  {
   "cell_type": "code",
   "execution_count": 7,
   "id": "6ab9fc06",
   "metadata": {},
   "outputs": [],
   "source": [
    "# try:\n",
    "#     <operation>\n",
    "# except:\n",
    "#     <operation>\n",
    "#else:\n",
    "#     <operation>"
   ]
  },
  {
   "cell_type": "code",
   "execution_count": 9,
   "id": "8de47d20",
   "metadata": {},
   "outputs": [
    {
     "name": "stdout",
     "output_type": "stream",
     "text": [
      "Hello World\n"
     ]
    }
   ],
   "source": [
    "try:\n",
    "    file = open('data.txt','r')\n",
    "    y = file.read()\n",
    "except FileExistsError:\n",
    "    print(\"the file is already created\")\n",
    "else:\n",
    "    print(y)\n",
    "    file.close()"
   ]
  },
  {
   "cell_type": "code",
   "execution_count": 10,
   "id": "adb35a4f",
   "metadata": {},
   "outputs": [
    {
     "data": {
      "text/plain": [
       "False"
      ]
     },
     "execution_count": 10,
     "metadata": {},
     "output_type": "execute_result"
    }
   ],
   "source": [
    "a = 10\n",
    "a>20"
   ]
  },
  {
   "cell_type": "code",
   "execution_count": 11,
   "id": "39ca6b67",
   "metadata": {},
   "outputs": [
    {
     "ename": "AssertionError",
     "evalue": "",
     "output_type": "error",
     "traceback": [
      "\u001b[1;31m---------------------------------------------------------------------------\u001b[0m",
      "\u001b[1;31mAssertionError\u001b[0m                            Traceback (most recent call last)",
      "Cell \u001b[1;32mIn[11], line 2\u001b[0m\n\u001b[0;32m      1\u001b[0m a \u001b[38;5;241m=\u001b[39m \u001b[38;5;241m10\u001b[39m \n\u001b[1;32m----> 2\u001b[0m \u001b[38;5;28;01massert\u001b[39;00m a\u001b[38;5;241m>\u001b[39m\u001b[38;5;241m20\u001b[39m\n",
      "\u001b[1;31mAssertionError\u001b[0m: "
     ]
    }
   ],
   "source": [
    "a = 10 \n",
    "assert a>20"
   ]
  },
  {
   "cell_type": "code",
   "execution_count": 2,
   "id": "aca3b2fd",
   "metadata": {},
   "outputs": [
    {
     "name": "stdout",
     "output_type": "stream",
     "text": [
      "Enter age = 9\n",
      "You are under age.\n"
     ]
    }
   ],
   "source": [
    "try:\n",
    "    age = int(input(\"Enter age = \"))\n",
    "    assert age > 10\n",
    "except ValueError:\n",
    "    print(\"Values  should be in int. Please try again\")\n",
    "except AssertionError:\n",
    "    print(\"You are under age.\")\n",
    "else:\n",
    "    print(\"You are welcome\")"
   ]
  },
  {
   "cell_type": "code",
   "execution_count": 6,
   "id": "6e38d622",
   "metadata": {},
   "outputs": [
    {
     "name": "stdout",
     "output_type": "stream",
     "text": [
      "Enter username = admin\n",
      "Enter password = uguic\n",
      "Username or Password dors not match.\n",
      "Enter username = admin\n",
      "Enter password = admin\n",
      "You are welcome\n"
     ]
    }
   ],
   "source": [
    "username = \"admin\"\n",
    "password = \"admin\"\n",
    "def login():\n",
    "    try: \n",
    "        username1 = input(\"Enter username = \")\n",
    "        password1 = input(\"Enter password = \")\n",
    "        assert (username == username1) and (password == password1)\n",
    "    except AssertionError:\n",
    "        print(\"Username or Password dors not match.\")\n",
    "        login()\n",
    "    else:\n",
    "        print(\"You are welcome\")\n",
    "login()    \n"
   ]
  },
  {
   "cell_type": "code",
   "execution_count": 8,
   "id": "fd7f1b63",
   "metadata": {},
   "outputs": [
    {
     "name": "stdout",
     "output_type": "stream",
     "text": [
      "Enter username = kajdb\n",
      "Enter password = lejfa\n",
      "Username or Password dors not match.\n",
      "Enter username = leakfn\n",
      "Enter password = lekfkna\n",
      "Username or Password dors not match.\n",
      "Enter username = admin\n",
      "Enter password = admin\n",
      "You are welcome\n",
      "3\n"
     ]
    }
   ],
   "source": [
    "username = \"admin\"\n",
    "password = \"admin\"\n",
    "i=1\n",
    "def login():\n",
    "    global i\n",
    "    try: \n",
    "        username1 = input(\"Enter username = \")\n",
    "        password1 = input(\"Enter password = \")\n",
    "        \n",
    "        assert (username == username1) and (password == password1)\n",
    "    except AssertionError:\n",
    "        print(\"Username or Password dors not match.\")\n",
    "        i=i+1\n",
    "        login()\n",
    "    else:\n",
    "        print(\"You are welcome\")\n",
    "login()  \n",
    "print(i)\n"
   ]
  },
  {
   "cell_type": "code",
   "execution_count": 9,
   "id": "4eedc9ab",
   "metadata": {},
   "outputs": [
    {
     "ename": "AssertionError",
     "evalue": "",
     "output_type": "error",
     "traceback": [
      "\u001b[1;31m---------------------------------------------------------------------------\u001b[0m",
      "\u001b[1;31mAssertionError\u001b[0m                            Traceback (most recent call last)",
      "Cell \u001b[1;32mIn[9], line 1\u001b[0m\n\u001b[1;32m----> 1\u001b[0m \u001b[38;5;28;01mraise\u001b[39;00m \u001b[38;5;167;01mAssertionError\u001b[39;00m\n",
      "\u001b[1;31mAssertionError\u001b[0m: "
     ]
    }
   ],
   "source": [
    "raise AssertionError"
   ]
  },
  {
   "cell_type": "code",
   "execution_count": 10,
   "id": "f72b114c",
   "metadata": {},
   "outputs": [
    {
     "ename": "NameError",
     "evalue": "name 'Apple' is not defined",
     "output_type": "error",
     "traceback": [
      "\u001b[1;31m---------------------------------------------------------------------------\u001b[0m",
      "\u001b[1;31mNameError\u001b[0m                                 Traceback (most recent call last)",
      "Cell \u001b[1;32mIn[10], line 1\u001b[0m\n\u001b[1;32m----> 1\u001b[0m \u001b[38;5;28;01mraise\u001b[39;00m \u001b[43mApple\u001b[49m\n",
      "\u001b[1;31mNameError\u001b[0m: name 'Apple' is not defined"
     ]
    }
   ],
   "source": [
    "raise Apple\n"
   ]
  },
  {
   "cell_type": "code",
   "execution_count": 14,
   "id": "4d7f97bb",
   "metadata": {},
   "outputs": [
    {
     "name": "stdout",
     "output_type": "stream",
     "text": [
      "enter a = 10\n",
      "enter b = 2\n"
     ]
    }
   ],
   "source": [
    "try:\n",
    "    a = int(input(\"enter a = \"))                \n",
    "    b = int(input(\"enter b = \"))\n",
    "    if b == 0:\n",
    "        raise AssertionError\n",
    "    c = a/b\n",
    "except ValueError:\n",
    "    print(\"Some error occured. Please try again\")\n",
    "except AssertionError:\n",
    "    print(\"Value of b cannot be zero\")\n",
    "    "
   ]
  },
  {
   "cell_type": "code",
   "execution_count": 21,
   "id": "a63f8bbf",
   "metadata": {},
   "outputs": [
    {
     "name": "stdout",
     "output_type": "stream",
     "text": [
      "Error\n"
     ]
    }
   ],
   "source": [
    "try:\n",
    "    a = int( nput(\"Enter a = \"))\n",
    "except:\n",
    "    print(\"Error\")"
   ]
  },
  {
   "cell_type": "code",
   "execution_count": null,
   "id": "4ab5d901",
   "metadata": {},
   "outputs": [],
   "source": []
  }
 ],
 "metadata": {
  "kernelspec": {
   "display_name": "Python 3 (ipykernel)",
   "language": "python",
   "name": "python3"
  },
  "language_info": {
   "codemirror_mode": {
    "name": "ipython",
    "version": 3
   },
   "file_extension": ".py",
   "mimetype": "text/x-python",
   "name": "python",
   "nbconvert_exporter": "python",
   "pygments_lexer": "ipython3",
   "version": "3.10.9"
  }
 },
 "nbformat": 4,
 "nbformat_minor": 5
}
