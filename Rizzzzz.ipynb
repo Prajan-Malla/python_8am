{
 "cells": [
  {
   "cell_type": "code",
   "execution_count": null,
   "id": "9529cfc2",
   "metadata": {},
   "outputs": [
    {
     "name": "stdout",
     "output_type": "stream",
     "text": [
      "Hi Harsha.\n",
      "I just want to tell u that U are beautiful.\n",
      "And By the way how long have u been this beautiful?\n",
      "Aaich smile ta jhan bbl.\n",
      "Can i get ur instgram? Cause i want to talk to this beautiful girl and get to know her.\n"
     ]
    }
   ],
   "source": [
    "print(\"Hi Harsha.\")\n",
    "print(\"I just want to tell u that U are beautiful.\")\n",
    "print(\"And By the way how long have u been this beautiful?\")\n",
    "print(\"Aaich smile ta jhan bbl.\")\n",
    "print(\"Can i get ur instgram? Cause i want to talk to this beautiful girl and get to know her.\")\n",
    "a = input(\"Enter ur instagram: \")  \n",
    "print(a)\n",
    "print(\"Thanks!\")\n",
    "print(\"Now get ready to get disturbed cause i am going to annoy you everyday and make ur life fun.\")\n",
    "\n",
    "\n",
    "\n",
    "\n",
    "\n",
    "\n",
    "\n",
    "\n",
    "\n",
    "\n",
    "\n",
    "\n",
    "\n",
    "\n",
    "\n",
    "# just press run\n",
    "\n",
    "\n",
    "\n",
    "\n",
    "\n",
    "\n",
    "\n",
    "\n",
    "\n",
    "\n",
    "\n"
   ]
  },
  {
   "cell_type": "code",
   "execution_count": null,
   "id": "a62d30d9",
   "metadata": {},
   "outputs": [],
   "source": []
  }
 ],
 "metadata": {
  "kernelspec": {
   "display_name": "Python 3 (ipykernel)",
   "language": "python",
   "name": "python3"
  },
  "language_info": {
   "codemirror_mode": {
    "name": "ipython",
    "version": 3
   },
   "file_extension": ".py",
   "mimetype": "text/x-python",
   "name": "python",
   "nbconvert_exporter": "python",
   "pygments_lexer": "ipython3",
   "version": "3.10.9"
  }
 },
 "nbformat": 4,
 "nbformat_minor": 5
}
