{
 "cells": [
  {
   "cell_type": "code",
   "execution_count": 1,
   "id": "c891a138",
   "metadata": {},
   "outputs": [],
   "source": [
    "# file = open('<file_name>','<mode>')\n",
    "# <operation>\n",
    "# file.close()\n",
    "\n",
    "\n",
    "# with open('<file_name>','<mode>')\n",
    "#     <operation>\n",
    "\n",
    "\n",
    "# modes\n",
    "# r -> read\n",
    "# w -> write\n",
    "# a -> append\n",
    "# x -> create"
   ]
  },
  {
   "cell_type": "code",
   "execution_count": 2,
   "id": "e0062a4b",
   "metadata": {},
   "outputs": [],
   "source": [
    "file = open('data.txt','x')\n",
    "file.close()"
   ]
  },
  {
   "cell_type": "code",
   "execution_count": 8,
   "id": "3fbb23a9",
   "metadata": {},
   "outputs": [
    {
     "name": "stdout",
     "output_type": "stream",
     "text": [
      "1.Hello World\n",
      "2.Hello World\n",
      "3.Hello World\n",
      "4.Hello World\n",
      "5.Hello World\n",
      "6.Hello World\n"
     ]
    }
   ],
   "source": [
    "file = open('data.txt','r')\n",
    "x = file.read()\n",
    "print(x)\n",
    "file.close()"
   ]
  },
  {
   "cell_type": "code",
   "execution_count": 10,
   "id": "28698cac",
   "metadata": {},
   "outputs": [
    {
     "name": "stdout",
     "output_type": "stream",
     "text": [
      "1.Hello World\n",
      "2.Hello World\n",
      "3.Hello World\n",
      "4.Hello World\n",
      "5.Hello World\n",
      "6.Hello World\n",
      "<class 'str'>\n"
     ]
    }
   ],
   "source": [
    "file = open('data.txt','r')\n",
    "x = file.read()\n",
    "print(x)\n",
    "print(type(x))\n",
    "file.close()"
   ]
  },
  {
   "cell_type": "code",
   "execution_count": 11,
   "id": "ea8a875a",
   "metadata": {},
   "outputs": [
    {
     "name": "stdout",
     "output_type": "stream",
     "text": [
      "Enter line no = 1\n",
      "2.Hello World\n"
     ]
    }
   ],
   "source": [
    "y = x.split('\\n')\n",
    "n = int(input(\"Enter line no = \"))\n",
    "print(y[n])"
   ]
  },
  {
   "cell_type": "code",
   "execution_count": 12,
   "id": "b63503b2",
   "metadata": {},
   "outputs": [
    {
     "name": "stdout",
     "output_type": "stream",
     "text": [
      "Enter line no = 1\n",
      "1.Hello World\n"
     ]
    }
   ],
   "source": [
    "y = x.split('\\n')\n",
    "n = int(input(\"Enter line no = \"))\n",
    "print(y[n-1])"
   ]
  },
  {
   "cell_type": "code",
   "execution_count": 13,
   "id": "c5bbe7da",
   "metadata": {},
   "outputs": [],
   "source": [
    "file = open('data.txt','w')\n",
    "file.write('Hello World')\n",
    "file.close()"
   ]
  },
  {
   "cell_type": "code",
   "execution_count": 14,
   "id": "a05babc6",
   "metadata": {},
   "outputs": [
    {
     "name": "stdout",
     "output_type": "stream",
     "text": [
      "Enter n = 2\n",
      "Enter name = momo\n",
      "Enter price = 120\n",
      "Entr quantity = 2\n",
      "Enter name = samosa\n",
      "Enter price = 30\n",
      "Entr quantity = 4\n",
      "momo 120 2.0 240.0\n",
      "samosa 30 4.0 120.0\n",
      "\n"
     ]
    }
   ],
   "source": [
    "bill = \"\"\n",
    "n = int(input(\"Enter n = \"))\n",
    "for i in range(n):\n",
    "    name = input(\"Enter name = \")\n",
    "    price = int(input(\"Enter price = \"))\n",
    "    quantity = float(input(\"Entr quantity = \"))\n",
    "    total = price * quantity\n",
    "    bill = bill + f\"{name} {price} {quantity} {total}\\n\"\n",
    "\n",
    "print(bill)\n",
    "file = open('bill.txt','w')\n",
    "file.write(bill)\n",
    "file.close()"
   ]
  },
  {
   "cell_type": "code",
   "execution_count": 15,
   "id": "8143e83e",
   "metadata": {},
   "outputs": [
    {
     "name": "stdout",
     "output_type": "stream",
     "text": [
      "momo 120 2.0 240.0\n",
      "samosa 30 4.0 120.0\n",
      "\n"
     ]
    }
   ],
   "source": [
    "file = open('bill.txt','r')\n",
    "x = file.read()\n",
    "print(x)\n",
    "file.close()"
   ]
  },
  {
   "cell_type": "code",
   "execution_count": 17,
   "id": "7d72e2a6",
   "metadata": {},
   "outputs": [
    {
     "data": {
      "text/plain": [
       "[['momo', '120', '2.0', '240.0'], ['samosa', '30', '4.0', '120.0']]"
      ]
     },
     "execution_count": 17,
     "metadata": {},
     "output_type": "execute_result"
    }
   ],
   "source": [
    "bill = []\n",
    "y = x.split('\\n')[:-1]\n",
    "for i in y:\n",
    "    bill.append(i.split())\n",
    "bill    "
   ]
  },
  {
   "cell_type": "code",
   "execution_count": 20,
   "id": "ad74c844",
   "metadata": {},
   "outputs": [
    {
     "data": {
      "text/plain": [
       "[['samosa', 120.0, 2.0, 240.0], ['samosa', 30.0, 4.0, 120.0]]"
      ]
     },
     "execution_count": 20,
     "metadata": {},
     "output_type": "execute_result"
    }
   ],
   "source": [
    "# for float\n",
    "bill = []\n",
    "y = x.split('\\n')[:-1]\n",
    "for i in y:\n",
    "    i = i.split()\n",
    "    price = float(i[1])\n",
    "    qty = float(i[2])\n",
    "    total = float(i[3])\n",
    "    bill.append([name,price,qty,total])\n",
    "bill    "
   ]
  },
  {
   "cell_type": "code",
   "execution_count": 21,
   "id": "d6569672",
   "metadata": {},
   "outputs": [
    {
     "name": "stdout",
     "output_type": "stream",
     "text": [
      "360.0\n"
     ]
    }
   ],
   "source": [
    "s = 0\n",
    "for i in bill:\n",
    "    s = s+i[-1]\n",
    "print(s)"
   ]
  },
  {
   "cell_type": "code",
   "execution_count": null,
   "id": "5f611cd9",
   "metadata": {},
   "outputs": [],
   "source": [
    "file = open('bill.csv','w')\n",
    "file.write('name,price,quantity,total\\n')\n",
    "file.close()"
   ]
  },
  {
   "cell_type": "code",
   "execution_count": 1,
   "id": "621c5c80",
   "metadata": {
    "scrolled": true
   },
   "outputs": [
    {
     "name": "stdout",
     "output_type": "stream",
     "text": [
      "Enter n = 2\n",
      "Enter name = momo\n",
      "Enter price = 120\n",
      "Enter quantity = 2\n",
      "Enter name = samosa\n",
      "Enter price = 30\n",
      "Enter quantity = 4\n",
      "momo,120,2.0,240.0\n",
      "samosa,30,4.0,120.0\n",
      "\n"
     ]
    }
   ],
   "source": [
    "bill = \"\"\n",
    "n = int(input(\"Enter n = \"))\n",
    "for i in range(n):\n",
    "    name = input(\"Enter name = \")\n",
    "    price = int(input(\"Enter price = \"))\n",
    "    quantity = float(input(\"Enter quantity = \"))\n",
    "    total = price * quantity\n",
    "    bill = bill + f\"{name},{price},{quantity},{total}\\n\"\n",
    "\n",
    "print(bill)\n",
    "file = open('bill.csv','a')\n",
    "file.write(bill)\n",
    "file.close()"
   ]
  },
  {
   "cell_type": "code",
   "execution_count": 4,
   "id": "0433d22b",
   "metadata": {},
   "outputs": [],
   "source": [
    "# writting list into csv file\n",
    "import csv\n",
    "l = [['name','price','quantity','total'],\n",
    "     ['momo','120','2.0','240.0'],\n",
    "     ['samosa','30','4.0','120.0']]\n",
    "file = open('bill_01.csv','w')\n",
    "x = csv. writer(file)\n",
    "x.writerows(l)\n",
    "file.close()"
   ]
  },
  {
   "cell_type": "code",
   "execution_count": 4,
   "id": "202524d0",
   "metadata": {},
   "outputs": [
    {
     "ename": "NameError",
     "evalue": "name 'csv' is not defined",
     "output_type": "error",
     "traceback": [
      "\u001b[1;31m---------------------------------------------------------------------------\u001b[0m",
      "\u001b[1;31mNameError\u001b[0m                                 Traceback (most recent call last)",
      "Cell \u001b[1;32mIn[4], line 2\u001b[0m\n\u001b[0;32m      1\u001b[0m file \u001b[38;5;241m=\u001b[39m \u001b[38;5;28mopen\u001b[39m(\u001b[38;5;124m'\u001b[39m\u001b[38;5;124mbill.csv\u001b[39m\u001b[38;5;124m'\u001b[39m,\u001b[38;5;124m'\u001b[39m\u001b[38;5;124ma\u001b[39m\u001b[38;5;124m'\u001b[39m)\n\u001b[1;32m----> 2\u001b[0m x \u001b[38;5;241m=\u001b[39m \u001b[43mcsv\u001b[49m\u001b[38;5;241m.\u001b[39mwriter(file)\n\u001b[0;32m      3\u001b[0m \u001b[38;5;28;01mdef\u001b[39;00m \u001b[38;5;21mentry\u001b[39m():\n\u001b[0;32m      4\u001b[0m     name \u001b[38;5;241m=\u001b[39m \u001b[38;5;28minput\u001b[39m(\u001b[38;5;124m\"\u001b[39m\u001b[38;5;124mEnter name = \u001b[39m\u001b[38;5;124m\"\u001b[39m)\n",
      "\u001b[1;31mNameError\u001b[0m: name 'csv' is not defined"
     ]
    }
   ],
   "source": [
    "file = open('bill.csv','a')\n",
    "x = csv.writer(file)\n",
    "def entry():\n",
    "    name = input(\"Enter name = \")\n",
    "    price = int(input(\"Enter price = \"))\n",
    "    quantity = float(input(\"Enter quantity = \"))\n",
    "    total = price * quantity\n",
    "    x.writerows(l)\n",
    "    z = input(\"Press Enter for next product = \")\n",
    "    if z == '':\n",
    "        entry()\n",
    "entry()\n",
    "file.close()"
   ]
  },
  {
   "cell_type": "code",
   "execution_count": null,
   "id": "a3f3dcd7",
   "metadata": {},
   "outputs": [],
   "source": [
    "import csv\n",
    "\n",
    "file = open('bill.csv','a')\n",
    "x = csv.writer(file)\n",
    "\n",
    "def entry():\n",
    "    name = input(\"Enter name = \")\n",
    "    price = int(input(\"Enter price = \"))\n",
    "    quantity = float(input(\"Enter quantity = \"))\n",
    "    total = price * quantity\n",
    "    x.writerows(l)\n",
    "    z = input(\"Press Enter for next product = \")\n",
    "    if z == '':\n",
    "        entry()\n",
    "\n",
    "entry()\n",
    "file.close()\n"
   ]
  },
  {
   "cell_type": "code",
   "execution_count": null,
   "id": "ad936d15",
   "metadata": {},
   "outputs": [],
   "source": []
  }
 ],
 "metadata": {
  "kernelspec": {
   "display_name": "Python 3 (ipykernel)",
   "language": "python",
   "name": "python3"
  },
  "language_info": {
   "codemirror_mode": {
    "name": "ipython",
    "version": 3
   },
   "file_extension": ".py",
   "mimetype": "text/x-python",
   "name": "python",
   "nbconvert_exporter": "python",
   "pygments_lexer": "ipython3",
   "version": "3.10.9"
  }
 },
 "nbformat": 4,
 "nbformat_minor": 5
}
